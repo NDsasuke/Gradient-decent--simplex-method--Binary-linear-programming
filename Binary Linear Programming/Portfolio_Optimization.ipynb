{
  "nbformat": 4,
  "nbformat_minor": 0,
  "metadata": {
    "colab": {
      "provenance": [],
      "authorship_tag": "ABX9TyNPs6ic2YZsuc/YMygNoaXf",
      "include_colab_link": true
    },
    "kernelspec": {
      "name": "python3",
      "display_name": "Python 3"
    },
    "language_info": {
      "name": "python"
    }
  },
  "cells": [
    {
      "cell_type": "markdown",
      "metadata": {
        "id": "view-in-github",
        "colab_type": "text"
      },
      "source": [
        "<a href=\"https://colab.research.google.com/github/NDsasuke/Gradient-decent--simplex-method--Binary-linear-programming/blob/main/Binary%20Linear%20Programming/Portfolio_Optimization.ipynb\" target=\"_parent\"><img src=\"https://colab.research.google.com/assets/colab-badge.svg\" alt=\"Open In Colab\"/></a>"
      ]
    },
    {
      "cell_type": "code",
      "source": [
        "!pip install pulp"
      ],
      "metadata": {
        "colab": {
          "base_uri": "https://localhost:8080/"
        },
        "id": "dxtwhmRQv9bW",
        "outputId": "0684f4ff-57a5-4e5f-dcea-ea392f3fee12"
      },
      "execution_count": 9,
      "outputs": [
        {
          "output_type": "stream",
          "name": "stdout",
          "text": [
            "Looking in indexes: https://pypi.org/simple, https://us-python.pkg.dev/colab-wheels/public/simple/\n",
            "Requirement already satisfied: pulp in /usr/local/lib/python3.10/dist-packages (2.7.0)\n"
          ]
        }
      ]
    },
    {
      "cell_type": "markdown",
      "source": [
        "# Importing necessary libraries:\n",
        "\n",
        "This segment imports the required libraries for data manipulation (pandas and numpy), data retrieval (pandas_datareader and yfinance), and linear programming (pulp)."
      ],
      "metadata": {
        "id": "LX8Dqr6ewvql"
      }
    },
    {
      "cell_type": "code",
      "execution_count": 10,
      "metadata": {
        "id": "YCVzKwk0t_TP"
      },
      "outputs": [],
      "source": [
        "import pandas as pd\n",
        "import numpy as np\n",
        "from pandas_datareader import data as pdr\n",
        "import yfinance as yf\n",
        "from pulp import *\n"
      ]
    },
    {
      "cell_type": "markdown",
      "source": [
        "# Setting up Yahoo Finance API:\n",
        "This line sets up the Yahoo Finance API for data retrieval using the pandas_datareader library."
      ],
      "metadata": {
        "id": "RMZTtsv6w6jn"
      }
    },
    {
      "cell_type": "code",
      "source": [
        "# Set up Yahoo Finance API\n",
        "yf.pdr_override()"
      ],
      "metadata": {
        "id": "-DEXzgCew7HB"
      },
      "execution_count": 11,
      "outputs": []
    },
    {
      "cell_type": "markdown",
      "source": [
        "# Defining the list of assets:\n",
        "This list contains the symbols or tickers of the assets you want to include in the portfolio. You can modify this list to include the desired assets.\n",
        "\n"
      ],
      "metadata": {
        "id": "58lHvDpgxK8r"
      }
    },
    {
      "cell_type": "code",
      "source": [
        "# Define the list of assets and their symbols\n",
        "assets = ['AAPL', 'GOOGL', 'MSFT', 'AMZN']"
      ],
      "metadata": {
        "id": "t5c-larTxJ4N"
      },
      "execution_count": 12,
      "outputs": []
    },
    {
      "cell_type": "markdown",
      "source": [
        "# Setting the start and end dates:\n",
        "These variables define the time range for data retrieval. Adjust the start and end dates according to your desired historical data period."
      ],
      "metadata": {
        "id": "erq-nzp6xszV"
      }
    },
    {
      "cell_type": "code",
      "source": [
        "# Set the start and end dates for data retrieval\n",
        "start_date = '2020-01-01'\n",
        "end_date = '2021-12-31'"
      ],
      "metadata": {
        "id": "JpyY4ih9xaXS"
      },
      "execution_count": 13,
      "outputs": []
    },
    {
      "cell_type": "markdown",
      "source": [
        "# Fetching historical stock prices:\n",
        "This line retrieves the historical stock prices for the specified assets from Yahoo Finance using the get_data_yahoo() function. It fetches the adjusted close prices ('Adj Close') for the given assets and time range."
      ],
      "metadata": {
        "id": "h8kUeuGyx038"
      }
    },
    {
      "cell_type": "code",
      "source": [
        "# Fetch the historical stock prices for the assets\n",
        "df_prices = pdr.get_data_yahoo(assets, start=start_date, end=end_date)['Adj Close']\n"
      ],
      "metadata": {
        "colab": {
          "base_uri": "https://localhost:8080/"
        },
        "id": "7sBLVmxdxpZp",
        "outputId": "75f908dd-4b95-4a4c-d32c-5b78fbe2d78e"
      },
      "execution_count": 14,
      "outputs": [
        {
          "output_type": "stream",
          "name": "stdout",
          "text": [
            "[*********************100%***********************]  4 of 4 completed\n"
          ]
        }
      ]
    },
    {
      "cell_type": "markdown",
      "source": [
        "# Calculating returns and covariances:\n",
        "These lines calculate the expected returns and covariances from the fetched stock prices. The pct_change() function computes the daily percentage change in prices, and mean() and cov() functions calculate the mean and covariance matrix, respectively. The multiplication by 252 is used to annualize the values assuming 252 trading days in a year."
      ],
      "metadata": {
        "id": "PUsGgVOsyABY"
      }
    },
    {
      "cell_type": "code",
      "source": [
        "# Calculate the returns and covariances from the prices\n",
        "returns = df_prices.pct_change().mean() * 252\n",
        "covariances = df_prices.pct_change().cov() * 252\n"
      ],
      "metadata": {
        "id": "HT5kKzvBxnV5"
      },
      "execution_count": 15,
      "outputs": []
    },
    {
      "cell_type": "markdown",
      "source": [
        "# Creating the binary linear programming problem\n",
        "This line creates a new linear programming problem with the name \"Portfolio_Optimization\" and sets it up for maximization (LpMaximize)."
      ],
      "metadata": {
        "id": "ree0t1ECyF08"
      }
    },
    {
      "cell_type": "code",
      "source": [
        "# Create the binary linear programming problem\n",
        "prob = LpProblem(\"Portfolio_Optimization\", LpMaximize)"
      ],
      "metadata": {
        "id": "f3ay99YHxjSj"
      },
      "execution_count": 16,
      "outputs": []
    },
    {
      "cell_type": "markdown",
      "source": [
        "# Defining decision variables:\n",
        "This line defines the decision variables x as a dictionary of binary variables, with each variable corresponding to an asset in the assets list."
      ],
      "metadata": {
        "id": "OdEaNUNlyqh9"
      }
    },
    {
      "cell_type": "code",
      "source": [
        "# Define the decision variables\n",
        "x = LpVariable.dicts(\"asset\", assets, cat=\"Binary\")"
      ],
      "metadata": {
        "id": "dlswvKqhxh_O"
      },
      "execution_count": 17,
      "outputs": []
    },
    {
      "cell_type": "markdown",
      "source": [
        "# Defining the objective function:\n",
        "This line defines the objective function to maximize the total return of the portfolio. It is the sum of the product of each asset's return (returns[i]) and its corresponding decision variable (x[i])."
      ],
      "metadata": {
        "id": "vkUPehAcy30S"
      }
    },
    {
      "cell_type": "code",
      "source": [
        "# Define the objective function\n",
        "prob += lpSum([returns[i] * x[i] for i in assets]), \"Total_Return\""
      ],
      "metadata": {
        "id": "uHmrKO3_zGl6"
      },
      "execution_count": 18,
      "outputs": []
    },
    {
      "cell_type": "markdown",
      "source": [
        "# Defining constraints:\n",
        "These lines define the constraints for the linear programming problem. The first constraint ensures that the weights of the assets sum up to 1, representing a fully invested portfolio. The second constraint sets a minimum investment requirement of 80% of the portfolio value."
      ],
      "metadata": {
        "id": "lLyfICJdzKSa"
      }
    },
    {
      "cell_type": "code",
      "source": [
        "# Define the constraints\n",
        "prob += lpSum([x[i] for i in assets]) == 1, \"Sum_of_Weights\"\n",
        "prob += lpSum([x[i] for i in assets]) >= 0.8, \"Minimum_Investment\""
      ],
      "metadata": {
        "id": "fW0tiY0wzhBb"
      },
      "execution_count": 19,
      "outputs": []
    },
    {
      "cell_type": "markdown",
      "source": [
        "# Solving the problem:\n",
        "This line solves the binary linear programming problem and finds the optimal solution that maximizes the objective function while satisfying the defined constraints."
      ],
      "metadata": {
        "id": "pPKQXoLGzlGm"
      }
    },
    {
      "cell_type": "code",
      "source": [
        "# Solve the problem\n",
        "prob.solve()"
      ],
      "metadata": {
        "colab": {
          "base_uri": "https://localhost:8080/"
        },
        "id": "i0ODndv1xd6Y",
        "outputId": "5da62000-4820-47d9-edda-dc1e48b902f9"
      },
      "execution_count": 20,
      "outputs": [
        {
          "output_type": "execute_result",
          "data": {
            "text/plain": [
              "1"
            ]
          },
          "metadata": {},
          "execution_count": 20
        }
      ]
    },
    {
      "cell_type": "markdown",
      "source": [
        "# Printing the optimal asset allocation:\n",
        "This segment constructs a DataFrame called allocation by concatenating individual DataFrames for each asset's allocation. The value(x[i]) retrieves the optimal value of the decision variable for each asset. Finally, the allocation DataFrame is printed, displaying the assets and their corresponding allocations (0 or 1)."
      ],
      "metadata": {
        "id": "FpzJlgXIy-gn"
      }
    },
    {
      "cell_type": "code",
      "source": [
        "# Print the optimal asset allocation\n",
        "allocation = pd.concat([pd.DataFrame({\"Asset\": i, \"Allocation\": value(x[i])}, index=[0]) for i in assets], ignore_index=True)\n",
        "print(allocation)\n"
      ],
      "metadata": {
        "colab": {
          "base_uri": "https://localhost:8080/"
        },
        "id": "MUchEB5RxcFr",
        "outputId": "10fa46c2-a6ff-4e92-a272-6520816ba024"
      },
      "execution_count": 21,
      "outputs": [
        {
          "output_type": "stream",
          "name": "stdout",
          "text": [
            "   Asset  Allocation\n",
            "0   AAPL         1.0\n",
            "1  GOOGL         0.0\n",
            "2   MSFT         0.0\n",
            "3   AMZN         0.0\n"
          ]
        }
      ]
    }
  ]
}