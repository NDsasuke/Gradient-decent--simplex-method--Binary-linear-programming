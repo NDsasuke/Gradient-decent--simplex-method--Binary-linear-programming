{
  "nbformat": 4,
  "nbformat_minor": 0,
  "metadata": {
    "colab": {
      "provenance": [],
      "authorship_tag": "ABX9TyN/dvJsxSj7NTFom+5krnwC",
      "include_colab_link": true
    },
    "kernelspec": {
      "name": "python3",
      "display_name": "Python 3"
    },
    "language_info": {
      "name": "python"
    }
  },
  "cells": [
    {
      "cell_type": "markdown",
      "metadata": {
        "id": "view-in-github",
        "colab_type": "text"
      },
      "source": [
        "<a href=\"https://colab.research.google.com/github/NDsasuke/Gradient-decent--simplex-method--Binary-linear-programming/blob/main/Binary%20Linear%20Programming/Production_Planing.ipynb\" target=\"_parent\"><img src=\"https://colab.research.google.com/assets/colab-badge.svg\" alt=\"Open In Colab\"/></a>"
      ]
    },
    {
      "cell_type": "code",
      "source": [
        "!pip install pulp"
      ],
      "metadata": {
        "colab": {
          "base_uri": "https://localhost:8080/"
        },
        "id": "ms2JOduJBrW9",
        "outputId": "014500cd-bf37-4ddd-faaf-5744a0b9cbfb"
      },
      "execution_count": 14,
      "outputs": [
        {
          "output_type": "stream",
          "name": "stdout",
          "text": [
            "Looking in indexes: https://pypi.org/simple, https://us-python.pkg.dev/colab-wheels/public/simple/\n",
            "Requirement already satisfied: pulp in /usr/local/lib/python3.10/dist-packages (2.7.0)\n"
          ]
        }
      ]
    },
    {
      "cell_type": "markdown",
      "source": [
        "# Importing the required module:\n",
        "\n",
        "The from pulp import * statement imports the necessary functions and classes from the PuLP library, which is used for solving linear programming problems."
      ],
      "metadata": {
        "id": "bVoPTRNKGKb3"
      }
    },
    {
      "cell_type": "code",
      "execution_count": 15,
      "metadata": {
        "id": "U0LJjOZaBc_b"
      },
      "outputs": [],
      "source": [
        "from pulp import *"
      ]
    },
    {
      "cell_type": "markdown",
      "source": [
        "#Setting up the problem:\n",
        "\n",
        "The prob = LpProblem(\"Production_Planning\", LpMaximize) line creates a new linear programming problem with the name \"Production_Planning\" and the objective of maximizing the total production."
      ],
      "metadata": {
        "id": "Gq3eLQXLVltd"
      }
    },
    {
      "cell_type": "code",
      "source": [
        "# Set the products, resources, and time periods\n",
        "products = [\"Product A\", \"Product B\", \"Product C\"]\n",
        "resources = [\"Resource 1\", \"Resource 2\", \"Resource 3\"]\n",
        "time_periods = [\"Period 1\", \"Period 2\", \"Period 3\"]"
      ],
      "metadata": {
        "id": "VyCfb0VgGHyY"
      },
      "execution_count": 16,
      "outputs": []
    },
    {
      "cell_type": "code",
      "source": [
        "# Set the production capacity for each resource and time period\n",
        "capacity = {\n",
        "    (\"Resource 1\", \"Period 1\"): 100,\n",
        "    (\"Resource 1\", \"Period 2\"): 150,\n",
        "    (\"Resource 1\", \"Period 3\"): 200,\n",
        "    (\"Resource 2\", \"Period 1\"): 120,\n",
        "    (\"Resource 2\", \"Period 2\"): 180,\n",
        "    (\"Resource 2\", \"Period 3\"): 220,\n",
        "    (\"Resource 3\", \"Period 1\"): 80,\n",
        "    (\"Resource 3\", \"Period 2\"): 100,\n",
        "    (\"Resource 3\", \"Period 3\"): 150,\n",
        "}"
      ],
      "metadata": {
        "id": "3Bzt1R0qGE2W"
      },
      "execution_count": 17,
      "outputs": []
    },
    {
      "cell_type": "code",
      "source": [
        "# Set the demand for each product and time period\n",
        "demand = {\n",
        "    (\"Product A\", \"Period 1\"): 80,\n",
        "    (\"Product A\", \"Period 2\"): 100,\n",
        "    (\"Product A\", \"Period 3\"): 120,\n",
        "    (\"Product B\", \"Period 1\"): 90,\n",
        "    (\"Product B\", \"Period 2\"): 110,\n",
        "    (\"Product B\", \"Period 3\"): 130,\n",
        "    (\"Product C\", \"Period 1\"): 70,\n",
        "    (\"Product C\", \"Period 2\"): 90,\n",
        "    (\"Product C\", \"Period 3\"): 110,\n",
        "}\n"
      ],
      "metadata": {
        "id": "_fdX-oPMGApZ"
      },
      "execution_count": 18,
      "outputs": []
    },
    {
      "cell_type": "code",
      "source": [
        "# Create the binary linear programming problem\n",
        "prob = LpProblem(\"Production_Planning\", LpMaximize)"
      ],
      "metadata": {
        "id": "Gm8vf4knF9HG"
      },
      "execution_count": 19,
      "outputs": []
    },
    {
      "cell_type": "markdown",
      "source": [
        "#Defining the decision variables:\n",
        "\n",
        "The x = LpVariable.dicts(\"Production\", [(p, r, t) for p in products for r in resources for t in time_periods], cat=\"Binary\") line defines the binary decision variables x using the LpVariable.dicts() function. These variables represent whether a particular product p is produced using a specific resource r in a given time period t."
      ],
      "metadata": {
        "id": "Y_aOim53V9A-"
      }
    },
    {
      "cell_type": "code",
      "source": [
        "# Define the decision variables\n",
        "x = LpVariable.dicts(\"Production\", [(p, r, t) for p in products for r in resources for t in time_periods], cat=\"Binary\")\n"
      ],
      "metadata": {
        "id": "SacLT2kHF5JO"
      },
      "execution_count": 20,
      "outputs": []
    },
    {
      "cell_type": "markdown",
      "source": [
        "#Defining the objective function:\n",
        "\n",
        "The prob += lpSum([x[(p, r, t)] for p in products for r in resources for t in time_periods]), \"Total_Production\" line defines the objective function of the problem, which aims to maximize the total production. It sums up all the decision variables x across all product-resource-time period combinations."
      ],
      "metadata": {
        "id": "PSfkFUruGEQE"
      }
    },
    {
      "cell_type": "code",
      "source": [
        "# Define the objective function\n",
        "prob += lpSum([x[(p, r, t)] for p in products for r in resources for t in time_periods]), \"Total_Production\"\n"
      ],
      "metadata": {
        "id": "jqOGVyMeF2Nf"
      },
      "execution_count": 21,
      "outputs": []
    },
    {
      "cell_type": "markdown",
      "source": [
        "#Defining the constraints:\n",
        "These constraints ensure that the total production using a specific resource r in a given time period t does not exceed the capacity specified in the capacity dictionary.\n"
      ],
      "metadata": {
        "id": "SWCl--KsWeAL"
      }
    },
    {
      "cell_type": "code",
      "source": [
        "# Define the constraints\n",
        "for r in resources:\n",
        "    for t in time_periods:\n",
        "        prob += lpSum([x[(p, r, t)] for p in products]) <= capacity[(r, t)], f\"Resource_Capacity_Constraint_{r}_{t}\"\n",
        "for p in products:\n",
        "    for t in time_periods:\n",
        "        prob += lpSum([x[(p, r, t)] for r in resources]) >= demand[(p, t)], f\"Demand_Satisfaction_Constraint_{p}_{t}\"\n"
      ],
      "metadata": {
        "id": "WRJgYbXyFzCI"
      },
      "execution_count": 22,
      "outputs": []
    },
    {
      "cell_type": "markdown",
      "source": [
        "#Solving the problem:\n",
        "\n",
        "The prob.solve() line solves the linear programming problem and finds the optimal solution that maximizes the total production while satisfying the constraints."
      ],
      "metadata": {
        "id": "fGezlxj7Wqp6"
      }
    },
    {
      "cell_type": "code",
      "source": [
        "# Solve the problem\n",
        "prob.solve()"
      ],
      "metadata": {
        "colab": {
          "base_uri": "https://localhost:8080/"
        },
        "id": "IlChB7HRFw1z",
        "outputId": "eb8d7d3f-ecca-44b4-e936-9091ec8e283a"
      },
      "execution_count": 23,
      "outputs": [
        {
          "output_type": "execute_result",
          "data": {
            "text/plain": [
              "-1"
            ]
          },
          "metadata": {},
          "execution_count": 23
        }
      ]
    },
    {
      "cell_type": "markdown",
      "source": [
        "#Printing the optimal solution:\n",
        "\n",
        "The following code segment prints the optimal production plan by iterating over the products, resources, and time periods and checking the values of the decision variables x:"
      ],
      "metadata": {
        "id": "-TLUy9c2WwJc"
      }
    },
    {
      "cell_type": "code",
      "source": [
        "# Print the optimal solution\n",
        "print(\"Optimal production plan:\")\n",
        "for p in products:\n",
        "    for r in resources:\n",
        "        for t in time_periods:\n",
        "            if value(x[(p, r, t)]) == 1:\n",
        "                print(f\"Produce {p} using {r} in {t}\")"
      ],
      "metadata": {
        "colab": {
          "base_uri": "https://localhost:8080/"
        },
        "id": "EBDYYYwgBqbn",
        "outputId": "29ab7581-624c-4d1c-d61c-125c47d4d0f6"
      },
      "execution_count": 24,
      "outputs": [
        {
          "output_type": "stream",
          "name": "stdout",
          "text": [
            "Optimal production plan:\n",
            "Produce Product A using Resource 1 in Period 1\n",
            "Produce Product A using Resource 1 in Period 2\n",
            "Produce Product A using Resource 1 in Period 3\n",
            "Produce Product A using Resource 2 in Period 1\n",
            "Produce Product A using Resource 2 in Period 2\n",
            "Produce Product A using Resource 2 in Period 3\n",
            "Produce Product A using Resource 3 in Period 1\n",
            "Produce Product A using Resource 3 in Period 2\n",
            "Produce Product A using Resource 3 in Period 3\n",
            "Produce Product B using Resource 1 in Period 1\n",
            "Produce Product B using Resource 1 in Period 2\n",
            "Produce Product B using Resource 1 in Period 3\n",
            "Produce Product B using Resource 2 in Period 1\n",
            "Produce Product B using Resource 2 in Period 2\n",
            "Produce Product B using Resource 2 in Period 3\n",
            "Produce Product B using Resource 3 in Period 1\n",
            "Produce Product B using Resource 3 in Period 2\n",
            "Produce Product B using Resource 3 in Period 3\n",
            "Produce Product C using Resource 1 in Period 1\n",
            "Produce Product C using Resource 1 in Period 2\n",
            "Produce Product C using Resource 1 in Period 3\n",
            "Produce Product C using Resource 2 in Period 1\n",
            "Produce Product C using Resource 2 in Period 2\n",
            "Produce Product C using Resource 2 in Period 3\n",
            "Produce Product C using Resource 3 in Period 1\n",
            "Produce Product C using Resource 3 in Period 2\n",
            "Produce Product C using Resource 3 in Period 3\n"
          ]
        }
      ]
    }
  ]
}