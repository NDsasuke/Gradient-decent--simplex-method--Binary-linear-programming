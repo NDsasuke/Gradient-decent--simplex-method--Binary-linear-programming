{
  "nbformat": 4,
  "nbformat_minor": 0,
  "metadata": {
    "colab": {
      "provenance": [],
      "authorship_tag": "ABX9TyPGqO3e991MQxX10LcLMymO",
      "include_colab_link": true
    },
    "kernelspec": {
      "name": "python3",
      "display_name": "Python 3"
    },
    "language_info": {
      "name": "python"
    }
  },
  "cells": [
    {
      "cell_type": "markdown",
      "metadata": {
        "id": "view-in-github",
        "colab_type": "text"
      },
      "source": [
        "<a href=\"https://colab.research.google.com/github/NDsasuke/Gradient-decent--simplex-method--Binary-linear-programming/blob/main/Binary%20Linear%20Programming/Network_Design.ipynb\" target=\"_parent\"><img src=\"https://colab.research.google.com/assets/colab-badge.svg\" alt=\"Open In Colab\"/></a>"
      ]
    },
    {
      "cell_type": "code",
      "source": [
        "!pip install pulp"
      ],
      "metadata": {
        "colab": {
          "base_uri": "https://localhost:8080/"
        },
        "id": "o0RewXPJXik7",
        "outputId": "b23c7679-0a89-4fc3-80b9-2423251374ed"
      },
      "execution_count": 16,
      "outputs": [
        {
          "output_type": "stream",
          "name": "stdout",
          "text": [
            "Looking in indexes: https://pypi.org/simple, https://us-python.pkg.dev/colab-wheels/public/simple/\n",
            "Requirement already satisfied: pulp in /usr/local/lib/python3.10/dist-packages (2.7.0)\n"
          ]
        }
      ]
    },
    {
      "cell_type": "markdown",
      "source": [
        "# Importing the required module:\n",
        "\n",
        "The from pulp import * statement imports the necessary functions and classes from the PuLP library, which is used for solving linear programming problems."
      ],
      "metadata": {
        "id": "i8VCKTqvbV_r"
      }
    },
    {
      "cell_type": "code",
      "source": [
        "from pulp import *\n"
      ],
      "metadata": {
        "id": "HNlnbCAnbSfE"
      },
      "execution_count": 17,
      "outputs": []
    },
    {
      "cell_type": "markdown",
      "source": [
        "#Setting up the problem:\n",
        "\n",
        "The prob = LpProblem(\"Network_Design\", LpMinimize) line creates a new linear programming problem with the name \"Network_Design\" and the objective of minimizing the total cost."
      ],
      "metadata": {
        "id": "pefGiZqMbZB-"
      }
    },
    {
      "cell_type": "code",
      "execution_count": 18,
      "metadata": {
        "id": "p125-wbXXdXa"
      },
      "outputs": [],
      "source": [
        "\n",
        "# Set the nodes, facilities, demands, and costs\n",
        "nodes = [\"Node1\", \"Node2\", \"Node3\", \"Node4\", \"Node5\"]\n",
        "facilities = [\"Facility1\", \"Facility2\", \"Facility3\"]\n",
        "demands = {\"Node1\": 10, \"Node2\": 15, \"Node3\": 8, \"Node4\": 12, \"Node5\": 6}\n",
        "costs = {\n",
        "    (\"Node1\", \"Facility1\"): 5,\n",
        "    (\"Node1\", \"Facility2\"): 8,\n",
        "    (\"Node1\", \"Facility3\"): 10,\n",
        "    (\"Node2\", \"Facility1\"): 7,\n",
        "    (\"Node2\", \"Facility2\"): 9,\n",
        "    (\"Node2\", \"Facility3\"): 6,\n",
        "    (\"Node3\", \"Facility1\"): 6,\n",
        "    (\"Node3\", \"Facility2\"): 12,\n",
        "    (\"Node3\", \"Facility3\"): 8,\n",
        "    (\"Node4\", \"Facility1\"): 9,\n",
        "    (\"Node4\", \"Facility2\"): 6,\n",
        "    (\"Node4\", \"Facility3\"): 11,\n",
        "    (\"Node5\", \"Facility1\"): 8,\n",
        "    (\"Node5\", \"Facility2\"): 10,\n",
        "    (\"Node5\", \"Facility3\"): 7,\n",
        "}"
      ]
    },
    {
      "cell_type": "code",
      "source": [
        "# Create the binary linear programming problem\n",
        "prob = LpProblem(\"Network_Design\", LpMinimize)\n"
      ],
      "metadata": {
        "id": "ip9l_gpmbOO9"
      },
      "execution_count": 19,
      "outputs": []
    },
    {
      "cell_type": "markdown",
      "source": [
        "#Defining the decision variables:\n",
        "\n",
        "The x = LpVariable.dicts(\"Use\", facilities, cat=\"Binary\") line defines the binary decision variables x using the LpVariable.dicts() function. These variables represent whether a facility is open or not.\n",
        "The y = LpVariable.dicts(\"Assign\", [(n, f) for n in nodes for f in facilities], cat=\"Binary\") line defines the binary decision variables y using the LpVariable.dicts() function. These variables represent whether a node n is assigned to a facility f or not."
      ],
      "metadata": {
        "id": "Vjwr9-6ibfmZ"
      }
    },
    {
      "cell_type": "code",
      "source": [
        "# Define the decision variables\n",
        "x = LpVariable.dicts(\"Use\", facilities, cat=\"Binary\")\n",
        "y = LpVariable.dicts(\"Assign\", [(n, f) for n in nodes for f in facilities], cat=\"Binary\")\n"
      ],
      "metadata": {
        "id": "0XZGdCWVbLDt"
      },
      "execution_count": 20,
      "outputs": []
    },
    {
      "cell_type": "markdown",
      "source": [
        "#Defining the objective function:\n",
        "\n",
        "The prob += lpSum([costs[(n, f)] * y[(n, f)] for n in nodes for f in facilities]), \"Total_Cost\" line defines the objective function of the problem, which aims to minimize the total cost. It sums up the costs of serving each node from each facility based on the assignment decision variables y."
      ],
      "metadata": {
        "id": "fCv0xxnxbkC3"
      }
    },
    {
      "cell_type": "code",
      "source": [
        "# Define the objective function\n",
        "prob += lpSum([costs[(n, f)] * y[(n, f)] for n in nodes for f in facilities]), \"Total_Cost\""
      ],
      "metadata": {
        "id": "5vvHkvoBbIW0"
      },
      "execution_count": 21,
      "outputs": []
    },
    {
      "cell_type": "markdown",
      "source": [
        "#Defining the constraints\n",
        "* These constraints ensure that each node is assigned to exactly one facility, satisfying the demand at each node.\n",
        "* These constraints ensure that the assignment of nodes to facilities is valid based on the facility being open"
      ],
      "metadata": {
        "id": "wpapi6dkbpdj"
      }
    },
    {
      "cell_type": "code",
      "source": [
        "# Define the constraints\n",
        "for n in nodes:\n",
        "    prob += lpSum([y[(n, f)] for f in facilities]) == 1, f\"Demand_Satisfaction_Constraint_{n}\"\n",
        "for f in facilities:\n",
        "    for n in nodes:\n",
        "        prob += y[(n, f)] <= x[f], f\"Coverage_Constraint_{f}_{n}\""
      ],
      "metadata": {
        "id": "gwNkpb9vbGbr"
      },
      "execution_count": 22,
      "outputs": []
    },
    {
      "cell_type": "markdown",
      "source": [
        "#Solving the problem:\n",
        "\n",
        "The prob.solve() line solves the linear programming problem and finds the optimal solution that minimizes the total cost while satisfying the constraints"
      ],
      "metadata": {
        "id": "rYX1-hqNb7xB"
      }
    },
    {
      "cell_type": "code",
      "source": [
        "# Solve the problem\n",
        "prob.solve()"
      ],
      "metadata": {
        "colab": {
          "base_uri": "https://localhost:8080/"
        },
        "id": "uAklPb0mbEzx",
        "outputId": "ad1a2901-9dd6-4cb2-8e9b-7b5b0359a3a1"
      },
      "execution_count": 23,
      "outputs": [
        {
          "output_type": "execute_result",
          "data": {
            "text/plain": [
              "1"
            ]
          },
          "metadata": {},
          "execution_count": 23
        }
      ]
    },
    {
      "cell_type": "markdown",
      "source": [
        "#Printing the optimal solution:\n",
        "It identifies the facilities that are open and prints the nodes that are assigned to each open facility."
      ],
      "metadata": {
        "id": "ztMo4BTjcBDg"
      }
    },
    {
      "cell_type": "code",
      "source": [
        "# Print the optimal solution\n",
        "print(\"Optimal network design:\")\n",
        "for f in facilities:\n",
        "    if value(x[f]) == 1:\n",
        "        print(f\"{f} is open and serves the following nodes:\")\n",
        "        for n in nodes:\n",
        "            if value(y[(n, f)]) == 1:\n",
        "                print(n)"
      ],
      "metadata": {
        "colab": {
          "base_uri": "https://localhost:8080/"
        },
        "id": "rNHmLUYjbEOC",
        "outputId": "3904a1ad-cebb-4f8c-9468-e4f315242d84"
      },
      "execution_count": 24,
      "outputs": [
        {
          "output_type": "stream",
          "name": "stdout",
          "text": [
            "Optimal network design:\n",
            "Facility1 is open and serves the following nodes:\n",
            "Node1\n",
            "Node3\n",
            "Facility2 is open and serves the following nodes:\n",
            "Node4\n",
            "Facility3 is open and serves the following nodes:\n",
            "Node2\n",
            "Node5\n"
          ]
        }
      ]
    },
    {
      "cell_type": "markdown",
      "source": [
        "#visualize"
      ],
      "metadata": {
        "id": "jDALQMtOcziX"
      }
    },
    {
      "cell_type": "code",
      "source": [
        "import networkx as nx\n",
        "import matplotlib.pyplot as plt\n",
        "\n",
        "# Create a directed graph\n",
        "G = nx.DiGraph()\n",
        "\n",
        "# Add nodes to the graph\n",
        "G.add_nodes_from(nodes)\n",
        "\n",
        "# Add edges to the graph\n",
        "for f in facilities:\n",
        "    for n in nodes:\n",
        "        if value(y[(n, f)]) == 1:\n",
        "            G.add_edge(f, n)\n",
        "\n",
        "# Set the positions of nodes for better visualization\n",
        "pos = nx.spring_layout(G)\n",
        "\n",
        "# Draw the graph\n",
        "plt.figure(figsize=(8, 6))\n",
        "nx.draw_networkx(G, pos, with_labels=True, node_size=500, node_color='lightblue', font_size=10, font_weight='bold')\n",
        "nx.draw_networkx_edges(G, pos, width=1, alpha=0.5, arrowsize=10)\n",
        "\n",
        "# Set plot title and display the graph\n",
        "plt.title(\"Optimal Network Design\")\n",
        "plt.axis('off')\n",
        "plt.show()\n"
      ],
      "metadata": {
        "colab": {
          "base_uri": "https://localhost:8080/",
          "height": 521
        },
        "id": "fOudbOfqcuNQ",
        "outputId": "2dd8e267-ea71-4107-bd47-78477294f528"
      },
      "execution_count": 25,
      "outputs": [
        {
          "output_type": "display_data",
          "data": {
            "text/plain": [
              "<Figure size 800x600 with 1 Axes>"
            ],
            "image/png": "[encoded data removed]"
          },
          "metadata": {}
        }
      ]
    }
  ]
}