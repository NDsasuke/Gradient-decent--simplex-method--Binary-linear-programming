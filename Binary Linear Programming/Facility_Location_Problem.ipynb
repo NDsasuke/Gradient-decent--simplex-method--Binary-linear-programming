{
  "nbformat": 4,
  "nbformat_minor": 0,
  "metadata": {
    "colab": {
      "provenance": [],
      "authorship_tag": "ABX9TyPaqJ9jzheiGEjrtDUkDkal",
      "include_colab_link": true
    },
    "kernelspec": {
      "name": "python3",
      "display_name": "Python 3"
    },
    "language_info": {
      "name": "python"
    }
  },
  "cells": [
    {
      "cell_type": "markdown",
      "metadata": {
        "id": "view-in-github",
        "colab_type": "text"
      },
      "source": [
        "<a href=\"https://colab.research.google.com/github/NDsasuke/Gradient-decent--simplex-method--Binary-linear-programming/blob/main/Binary%20Linear%20Programming/Facility_Location_Problem.ipynb\" target=\"_parent\"><img src=\"https://colab.research.google.com/assets/colab-badge.svg\" alt=\"Open In Colab\"/></a>"
      ]
    },
    {
      "cell_type": "code",
      "execution_count": 8,
      "metadata": {
        "colab": {
          "base_uri": "https://localhost:8080/"
        },
        "id": "nthip6mG2uO-",
        "outputId": "816c4db1-72cc-46d2-ed0c-435f1fb1a93e"
      },
      "outputs": [
        {
          "output_type": "stream",
          "name": "stdout",
          "text": [
            "Looking in indexes: https://pypi.org/simple, https://us-python.pkg.dev/colab-wheels/public/simple/\n",
            "Requirement already satisfied: pulp in /usr/local/lib/python3.10/dist-packages (2.7.0)\n"
          ]
        }
      ],
      "source": [
        "!pip install pulp"
      ]
    },
    {
      "cell_type": "markdown",
      "source": [
        "# Importing necessary libraries:\n",
        "This line imports the required library, pulp, for linear programming."
      ],
      "metadata": {
        "id": "-L2qfqfG5WEO"
      }
    },
    {
      "cell_type": "code",
      "source": [
        "from pulp import *"
      ],
      "metadata": {
        "id": "4bAXRbDx2w8T"
      },
      "execution_count": 9,
      "outputs": []
    },
    {
      "cell_type": "markdown",
      "source": [
        "# Set the customer names and locations:\n",
        "These lists define the names and locations of the customers. Each customer is represented by a name from the customers list, and their location is given as a tuple of coordinates from the customer_locations list."
      ],
      "metadata": {
        "id": "sI3B8X_q5j1o"
      }
    },
    {
      "cell_type": "code",
      "source": [
        "# Set the customer names and locations\n",
        "customers = [\"John\", \"Emily\", \"David\", \"Sophia\", \"Oliver\"]\n",
        "customer_locations = [(2, 3), (5, 4), (7, 2), (3, 6), (6, 5)]\n"
      ],
      "metadata": {
        "id": "D2aZEv5g5TdC"
      },
      "execution_count": 10,
      "outputs": []
    },
    {
      "cell_type": "markdown",
      "source": [
        "# Set the number of facilities:\n",
        "This variable represents the total number of facilities available for opening."
      ],
      "metadata": {
        "id": "y3wweHko50XB"
      }
    },
    {
      "cell_type": "code",
      "source": [
        "# Set the number of facilities\n",
        "num_facilities = 3"
      ],
      "metadata": {
        "id": "DZb7jWUR5PqY"
      },
      "execution_count": 11,
      "outputs": []
    },
    {
      "cell_type": "markdown",
      "source": [
        "# Set the facility names and locations:\n",
        "These lists define the names and locations of the facilities. Each facility is represented by a name from the facilities list, and their location is given as a tuple of coordinates from the facility_locations list."
      ],
      "metadata": {
        "id": "8I91nSvI59Ml"
      }
    },
    {
      "cell_type": "code",
      "source": [
        "# Set the facility names and locations\n",
        "facilities = [\"Facility 1\", \"Facility 2\", \"Facility 3\"]\n",
        "facility_locations = [(1, 1), (4, 5), (6, 2)]"
      ],
      "metadata": {
        "id": "juJ0ncrS5NQf"
      },
      "execution_count": 12,
      "outputs": []
    },
    {
      "cell_type": "markdown",
      "source": [
        "# Calculate the cost matrix based on Euclidean distance:\n",
        "This line calculates the cost matrix based on the Euclidean distance between each customer location and each facility location. It uses nested list comprehensions to iterate over the customer and facility locations and applies the Euclidean distance formula."
      ],
      "metadata": {
        "id": "o1fKmSJs6F0m"
      }
    },
    {
      "cell_type": "code",
      "source": [
        "# Calculate the cost matrix based on Euclidean distance\n",
        "cost_matrix = [[((cust_loc[0] - fac_loc[0])**2 + (cust_loc[1] - fac_loc[1])**2)**0.5 for fac_loc in facility_locations] for cust_loc in customer_locations]\n"
      ],
      "metadata": {
        "id": "Tomgpj8m5KLp"
      },
      "execution_count": 13,
      "outputs": []
    },
    {
      "cell_type": "markdown",
      "source": [
        "# Create the binary linear programming problem:\n",
        "This line creates a new linear programming problem with the name \"Facility_Location\" and sets it up for minimization (LpMinimize)."
      ],
      "metadata": {
        "id": "L3wab0Vq6Ogh"
      }
    },
    {
      "cell_type": "code",
      "source": [
        "# Create the binary linear programming problem\n",
        "prob = LpProblem(\"Facility_Location\", LpMinimize)\n"
      ],
      "metadata": {
        "id": "GcUY9Yt65IFS"
      },
      "execution_count": 14,
      "outputs": []
    },
    {
      "cell_type": "markdown",
      "source": [
        "# Define the decision variables:\n",
        "This line defines the decision variables x as a dictionary of binary variables. Each variable corresponds to a combination of a facility (indexed from 0 to num_facilities-1) and a customer (indexed from 0 to len(customers)-1)."
      ],
      "metadata": {
        "id": "Zh7uYbjj6WfH"
      }
    },
    {
      "cell_type": "code",
      "source": [
        "# Define the decision variables\n",
        "x = LpVariable.dicts(\"Facility\", [(i, j) for i in range(num_facilities) for j in range(len(customers))], cat=\"Binary\")\n"
      ],
      "metadata": {
        "id": "KEX_ghZb5GAf"
      },
      "execution_count": 15,
      "outputs": []
    },
    {
      "cell_type": "markdown",
      "source": [
        "#Define the objective function:\n",
        "This line defines the objective function to minimize the total cost. It is the sum of the product of each cost (cost_matrix[j][i]) and the corresponding decision variable (x[(i, j)])."
      ],
      "metadata": {
        "id": "ROQhZXi26kqz"
      }
    },
    {
      "cell_type": "code",
      "source": [
        "# Define the objective function\n",
        "prob += lpSum([cost_matrix[j][i] * x[(i, j)] for i in range(num_facilities) for j in range(len(customers))]), \"Total_Cost\"\n"
      ],
      "metadata": {
        "id": "UYuKToy35DNF"
      },
      "execution_count": 16,
      "outputs": []
    },
    {
      "cell_type": "markdown",
      "source": [
        "#Define the constraints:\n",
        "These loops define the constraints for the linear programming problem. The first loop ensures that each customer is assigned to exactly one facility. The second loop ensures that each facility serves at most one customer."
      ],
      "metadata": {
        "id": "nBY51wMW6uKj"
      }
    },
    {
      "cell_type": "code",
      "source": [
        "# Define the constraints\n",
        "for j in range(len(customers)):\n",
        "    prob += lpSum([x[(i, j)] for i in range(num_facilities)]) == 1, f\"Assignment_Constraint_{j}\"\n",
        "for i in range(num_facilities):\n",
        "    prob += lpSum([x[(i, j)] for j in range(len(customers))]) <= 1, f\"Facility_Constraint_{i}\"\n"
      ],
      "metadata": {
        "id": "bPrrfVjG5Ahg"
      },
      "execution_count": 17,
      "outputs": []
    },
    {
      "cell_type": "markdown",
      "source": [
        "#Solve the problem:\n",
        "This line solves the binary linear programming problem and finds the optimal solution that minimizes the total cost while satisfying the defined constraints."
      ],
      "metadata": {
        "id": "zwHi2kGd63za"
      }
    },
    {
      "cell_type": "code",
      "source": [
        "# Solve the problem\n",
        "prob.solve()"
      ],
      "metadata": {
        "colab": {
          "base_uri": "https://localhost:8080/"
        },
        "id": "6b05AA3k4-ml",
        "outputId": "7096a0f8-4859-407d-cf27-1149850040d7"
      },
      "execution_count": 18,
      "outputs": [
        {
          "output_type": "execute_result",
          "data": {
            "text/plain": [
              "-1"
            ]
          },
          "metadata": {},
          "execution_count": 18
        }
      ]
    },
    {
      "cell_type": "markdown",
      "source": [
        "# Print the optimal solution:\n",
        "This segment prints the optimal solution by iterating over each customer and facility. It checks the value of the corresponding decision variable, x[(i, j)], and if it equals 1, it prints the assignment of the customer (customers[j]) to the facility (facilities[i])."
      ],
      "metadata": {
        "id": "RWETKQpZ6_pK"
      }
    },
    {
      "cell_type": "code",
      "source": [
        "# Print the optimal solution\n",
        "print(\"Optimal facility locations:\")\n",
        "for j in range(len(customers)):\n",
        "    for i in range(num_facilities):\n",
        "        if value(x[(i, j)]) == 1:\n",
        "            print(f\"Customer {customers[j]} assigned to {facilities[i]}\")\n"
      ],
      "metadata": {
        "colab": {
          "base_uri": "https://localhost:8080/"
        },
        "id": "Amc1mnAD49qd",
        "outputId": "1e000747-2912-48b6-931e-561a1795fd2c"
      },
      "execution_count": 19,
      "outputs": [
        {
          "output_type": "stream",
          "name": "stdout",
          "text": [
            "Optimal facility locations:\n",
            "Customer John assigned to Facility 1\n",
            "Customer Emily assigned to Facility 1\n",
            "Customer David assigned to Facility 3\n",
            "Customer Sophia assigned to Facility 1\n",
            "Customer Oliver assigned to Facility 2\n"
          ]
        }
      ]
    }
  ]
}