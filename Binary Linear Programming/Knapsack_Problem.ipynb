{
  "nbformat": 4,
  "nbformat_minor": 0,
  "metadata": {
    "colab": {
      "provenance": [],
      "authorship_tag": "ABX9TyMo3a30sSkaEiLn4XUaL5hP",
      "include_colab_link": true
    },
    "kernelspec": {
      "name": "python3",
      "display_name": "Python 3"
    },
    "language_info": {
      "name": "python"
    }
  },
  "cells": [
    {
      "cell_type": "markdown",
      "metadata": {
        "id": "view-in-github",
        "colab_type": "text"
      },
      "source": [
        "<a href=\"https://colab.research.google.com/github/NDsasuke/Gradient-decent--simplex-method--Binary-linear-programming/blob/main/Binary%20Linear%20Programming/Knapsack_Problem.ipynb\" target=\"_parent\"><img src=\"https://colab.research.google.com/assets/colab-badge.svg\" alt=\"Open In Colab\"/></a>"
      ]
    },
    {
      "cell_type": "markdown",
      "source": [
        "#Introduction to The Knapsack Problem\n",
        "The Knapsack Problem is a classic optimization problem in computer science and mathematics. It gets its name from the idea of selecting items to pack into a knapsack, considering their weights and values, in order to maximize the total value while staying within the weight limit of the knapsack.\n",
        "\n",
        "The problem can be stated as follows: Given a set of items, each with a weight and a value, and a knapsack with a limited weight capacity, the goal is to determine which items to include in the knapsack to maximize the total value while ensuring that the total weight does not exceed the knapsack's capacity.\n",
        "\n",
        "The Knapsack Problem is a combinatorial optimization problem that belongs to the class of NP-hard problems, meaning that it is computationally challenging to find an optimal solution as the number of items increases. There are different variations of the Knapsack Problem, including the 0/1 Knapsack Problem (where items are either taken completely or not at all) and the Fractional Knapsack Problem (where items can be taken in fractions or multiples).\n",
        "\n",
        "The Knapsack Problem has numerous real-world applications, such as resource allocation, financial portfolio optimization, project selection, and bin packing. It serves as a fundamental problem in operations research, algorithm design, and optimization, with various algorithms and approaches developed to solve it efficiently.\n",
        "\n",
        "To solve the Knapsack Problem, different techniques can be employed, including dynamic programming, greedy algorithms, branch and bound, and integer linear programming. Each technique has its advantages and limitations, and the choice depends on the problem size, constraints, and desired solution quality.\n",
        "\n",
        "Overall, the Knapsack Problem poses an interesting and challenging optimization puzzle, requiring careful consideration of weights, values, and constraints to find an optimal or near-optimal solution that maximizes value while respecting the capacity limitation."
      ],
      "metadata": {
        "id": "k23hzOKI-lu5"
      }
    },
    {
      "cell_type": "code",
      "source": [
        "!pip install pulp"
      ],
      "metadata": {
        "colab": {
          "base_uri": "https://localhost:8080/"
        },
        "id": "snLs7ZBk82-u",
        "outputId": "290f4848-43be-42d9-cd53-992bbe66f5f1"
      },
      "execution_count": 4,
      "outputs": [
        {
          "output_type": "stream",
          "name": "stdout",
          "text": [
            "Looking in indexes: https://pypi.org/simple, https://us-python.pkg.dev/colab-wheels/public/simple/\n",
            "Requirement already satisfied: pulp in /usr/local/lib/python3.10/dist-packages (2.7.0)\n"
          ]
        }
      ]
    },
    {
      "cell_type": "markdown",
      "source": [
        "#Importing necessary libraries:\n",
        "This line imports the required library, pulp, for linear programming."
      ],
      "metadata": {
        "id": "Pkazss4R_Fau"
      }
    },
    {
      "cell_type": "code",
      "execution_count": 5,
      "metadata": {
        "id": "XRG8QcpQ8jYO"
      },
      "outputs": [],
      "source": [
        "from pulp import *"
      ]
    },
    {
      "cell_type": "markdown",
      "source": [
        "Set the weight and value of each item:\n",
        "\n",
        "These lists, weights and values, represent the weights and values of each item, respectively. The knapsack_capacity variable represents the maximum weight that the knapsack can hold."
      ],
      "metadata": {
        "id": "-E_n6byv_Mj8"
      }
    },
    {
      "cell_type": "code",
      "source": [
        "# Set the weight and value of each item\n",
        "weights = [2, 3, 4, 5]\n",
        "values = [3, 4, 5, 6]\n",
        "knapsack_capacity = 8\n"
      ],
      "metadata": {
        "id": "Yqg9VUFP--mf"
      },
      "execution_count": 6,
      "outputs": []
    },
    {
      "cell_type": "markdown",
      "source": [
        "# Create the binary linear programming problem:\n",
        "This line creates a new linear programming problem with the name \"Knapsack_Problem\" and sets it up for maximization (LpMaximize)."
      ],
      "metadata": {
        "id": "zRzCDS8N_Y_2"
      }
    },
    {
      "cell_type": "code",
      "source": [
        "# Create the binary linear programming problem\n",
        "prob = LpProblem(\"Knapsack_Problem\", LpMaximize)\n"
      ],
      "metadata": {
        "id": "BvZb2Dyj-4rM"
      },
      "execution_count": 7,
      "outputs": []
    },
    {
      "cell_type": "markdown",
      "source": [
        "#Define the decision variables:\n",
        "This line defines the decision variables x as a dictionary of binary variables. Each variable corresponds to an item, indexed from 0 to len(weights)-1, and represents whether the item is selected (1) or not selected (0)."
      ],
      "metadata": {
        "id": "o62RQD_z_hkw"
      }
    },
    {
      "cell_type": "code",
      "source": [
        "# Define the decision variables\n",
        "x = LpVariable.dicts(\"Item\", range(len(weights)), cat=\"Binary\")\n"
      ],
      "metadata": {
        "id": "Vkw27NBn-61O"
      },
      "execution_count": 8,
      "outputs": []
    },
    {
      "cell_type": "markdown",
      "source": [
        "# Define the objective function:\n",
        "This line defines the objective function to maximize the total value of the items in the knapsack. It is the sum of the product of each item's value (values[i]) and its corresponding decision variable (x[i]).\n",
        "\n"
      ],
      "metadata": {
        "id": "Si0HEmmT_vYj"
      }
    },
    {
      "cell_type": "code",
      "source": [
        "# Define the objective function\n",
        "prob += lpSum([values[i] * x[i] for i in range(len(weights))]), \"Total_Value\"\n"
      ],
      "metadata": {
        "id": "l95mw-4i-6GV"
      },
      "execution_count": 9,
      "outputs": []
    },
    {
      "cell_type": "markdown",
      "source": [
        "# Define the weight constraint:\n",
        "This line defines the constraint that ensures the total weight of the selected items does not exceed the capacity of the knapsack. It sums the product of each item's weight (weights[i]) and its corresponding decision variable (x[i]) and sets it to be less than or equal to knapsack_capacity."
      ],
      "metadata": {
        "id": "9TKP-HiA_2i4"
      }
    },
    {
      "cell_type": "code",
      "source": [
        "# Define the weight constraint\n",
        "prob += lpSum([weights[i] * x[i] for i in range(len(weights))]) <= knapsack_capacity, \"Weight_Constraint\"\n"
      ],
      "metadata": {
        "id": "NZxpPUw1-37j"
      },
      "execution_count": 10,
      "outputs": []
    },
    {
      "cell_type": "markdown",
      "source": [
        "# Solve the problem:\n",
        "This line solves the binary linear programming problem and finds the optimal solution that maximizes the total value of the items while satisfying the weight constraint.\n"
      ],
      "metadata": {
        "id": "4ecgAFVaADrX"
      }
    },
    {
      "cell_type": "code",
      "source": [
        "# Solve the problem\n",
        "prob.solve()\n"
      ],
      "metadata": {
        "colab": {
          "base_uri": "https://localhost:8080/"
        },
        "id": "jH86nK7W-1Qe",
        "outputId": "2bde746c-ab9f-4a47-ace4-873cf47fbcd3"
      },
      "execution_count": 11,
      "outputs": [
        {
          "output_type": "execute_result",
          "data": {
            "text/plain": [
              "1"
            ]
          },
          "metadata": {},
          "execution_count": 11
        }
      ]
    },
    {
      "cell_type": "markdown",
      "source": [
        "# Print the optimal solution:\n",
        "This segment prints the optimal solution by iterating over each item. It checks the value of the corresponding decision variable, x[i], and if it equals 1, it prints the item number, weight, and value."
      ],
      "metadata": {
        "id": "4mfY6g81ALI4"
      }
    },
    {
      "cell_type": "code",
      "source": [
        "# Print the optimal solution\n",
        "print(\"Optimal knapsack contents:\")\n",
        "for i in range(len(weights)):\n",
        "    if value(x[i]) == 1:\n",
        "        print(f\"Item {i+1} (weight: {weights[i]}, value: {values[i]})\")"
      ],
      "metadata": {
        "colab": {
          "base_uri": "https://localhost:8080/"
        },
        "id": "y5fMOU_O-zgp",
        "outputId": "9a133899-f28e-4f85-fd5b-e4183cd80a1b"
      },
      "execution_count": 12,
      "outputs": [
        {
          "output_type": "stream",
          "name": "stdout",
          "text": [
            "Optimal knapsack contents:\n",
            "Item 2 (weight: 3, value: 4)\n",
            "Item 4 (weight: 5, value: 6)\n"
          ]
        }
      ]
    }
  ]
}