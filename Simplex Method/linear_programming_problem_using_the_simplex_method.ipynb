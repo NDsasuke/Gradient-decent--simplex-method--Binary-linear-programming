{
  "nbformat": 4,
  "nbformat_minor": 0,
  "metadata": {
    "colab": {
      "provenance": [],
      "authorship_tag": "ABX9TyPxx1gyhfMcSZBFLpw36q6D",
      "include_colab_link": true
    },
    "kernelspec": {
      "name": "python3",
      "display_name": "Python 3"
    },
    "language_info": {
      "name": "python"
    }
  },
  "cells": [
    {
      "cell_type": "markdown",
      "metadata": {
        "id": "view-in-github",
        "colab_type": "text"
      },
      "source": [
        "<a href=\"https://colab.research.google.com/github/NDsasuke/Gradient-decent--simplex-method--Binary-linear-programming/blob/main/Simplex%20Method/linear_programming_problem_using_the_simplex_method.ipynb\" target=\"_parent\"><img src=\"https://colab.research.google.com/assets/colab-badge.svg\" alt=\"Open In Colab\"/></a>"
      ]
    },
    {
      "cell_type": "markdown",
      "source": [
        "#Importing Required Libraries:\n",
        "\n",
        "* numpy: Library for numerical operations in Python.\n",
        "* scipy.optimize.linprog: Function from SciPy library for solving linear programming problems.\n",
        "* matplotlib.pyplot: Library for creating plots and visualizations in Python."
      ],
      "metadata": {
        "id": "oSCiniTK7MpI"
      }
    },
    {
      "cell_type": "code",
      "source": [
        "import numpy as np\n",
        "from scipy.optimize import linprog\n",
        "import matplotlib.pyplot as plt"
      ],
      "metadata": {
        "id": "aBTJ0AhG7S8_"
      },
      "execution_count": 2,
      "outputs": []
    },
    {
      "cell_type": "markdown",
      "source": [
        "#Define Objective Function Coefficients:\n",
        "\n",
        "* c: An array that represents the coefficients of the objective function."
      ],
      "metadata": {
        "id": "RQtnP9FX7T0s"
      }
    },
    {
      "cell_type": "code",
      "source": [
        "# Define the objective function coefficients\n",
        "c = np.array([2, -1, 3, 4, 5, -2])"
      ],
      "metadata": {
        "id": "nyPI8QX-7fL8"
      },
      "execution_count": 3,
      "outputs": []
    },
    {
      "cell_type": "markdown",
      "source": [
        "#Define the Inequality Constraints Matrix:\n",
        "\n",
        "* A: A matrix that represents the coefficients of the inequality constraints."
      ],
      "metadata": {
        "id": "QATgWLE-7f71"
      }
    },
    {
      "cell_type": "code",
      "source": [
        "# Define the inequality constraints matrix\n",
        "A = np.array([\n",
        "    [1, -1, 0, 0, 0, 0],\n",
        "    [0, 2, -1, 1, 0, 0],\n",
        "    [3, -1, 0, 0, -1, 0],\n",
        "    [-1, 0, 0, 0, 0, 1],\n",
        "    [0, 0, 3, -1, 0, 0],\n",
        "    [-2, 1, 0, 0, 0, 0],\n",
        "    [0, 0, 0, 1, -1, 0],\n",
        "    [0, -1, 1, 0, 0, 0]\n",
        "])"
      ],
      "metadata": {
        "id": "YH1ULkat7pcq"
      },
      "execution_count": 4,
      "outputs": []
    },
    {
      "cell_type": "markdown",
      "source": [
        "#Define the Inequality Constraints Vector:\n",
        "\n",
        "* b: An array that represents the right-hand side values of the inequality constraints."
      ],
      "metadata": {
        "id": "rRtyQbZO7qLg"
      }
    },
    {
      "cell_type": "code",
      "source": [
        "# Define the inequality constraints vector\n",
        "b = np.array([1, 2, 3, 4, 5, 6, 7, 8])"
      ],
      "metadata": {
        "id": "HgaX0c857wRC"
      },
      "execution_count": 5,
      "outputs": []
    },
    {
      "cell_type": "markdown",
      "source": [
        "#Define the Bounds for Variables:\n",
        "\n",
        "* x_bounds, y_bounds, z_bounds, w_bounds, u_bounds, v_bounds: Tuples that define the lower and upper bounds for each variable."
      ],
      "metadata": {
        "id": "vhfboIbA7zNS"
      }
    },
    {
      "cell_type": "code",
      "source": [
        "# Define the bounds for variables (x >= 0, y >= 0, z >= 0, w >= 0, u >= 0, v >= 0)\n",
        "x_bounds = (0, None)\n",
        "y_bounds = (0, None)\n",
        "z_bounds = (0, None)\n",
        "w_bounds = (0, None)\n",
        "u_bounds = (0, None)\n",
        "v_bounds = (0, None)"
      ],
      "metadata": {
        "id": "HjGtoIK373xL"
      },
      "execution_count": 6,
      "outputs": []
    },
    {
      "cell_type": "markdown",
      "source": [
        "#Solve the Linear Programming Problem:\n",
        "\n",
        "* result: Solves the linear programming problem using the linprog function, passing the objective function coefficients, inequality constraints matrix, inequality constraints vector, and variable bounds. The method used for solving is the simplex method."
      ],
      "metadata": {
        "id": "Ag4MXtK674sz"
      }
    },
    {
      "cell_type": "code",
      "source": [
        "# Solve the linear programming problem\n",
        "result = linprog(c, A_ub=A, b_ub=b, bounds=[x_bounds, y_bounds, z_bounds, w_bounds, u_bounds, v_bounds], method='simplex')"
      ],
      "metadata": {
        "colab": {
          "base_uri": "https://localhost:8080/"
        },
        "id": "Yn0Sogym8AJO",
        "outputId": "03fb4065-604c-4d1c-d4b2-c977c0d52c94"
      },
      "execution_count": 7,
      "outputs": [
        {
          "output_type": "stream",
          "name": "stderr",
          "text": [
            "<ipython-input-7-ef09d9c4e957>:2: DeprecationWarning: `method='simplex'` is deprecated and will be removed in SciPy 1.11.0. Please use one of the HiGHS solvers (e.g. `method='highs'`) in new code.\n",
            "  result = linprog(c, A_ub=A, b_ub=b, bounds=[x_bounds, y_bounds, z_bounds, w_bounds, u_bounds, v_bounds], method='simplex')\n"
          ]
        }
      ]
    },
    {
      "cell_type": "markdown",
      "source": [
        "#Print the Optimal Solution and Objective Value:\n",
        "\n",
        "* If the linear programming problem is successfully solved (result.success is True), it prints the values of the optimal solution variables (result.x) and the objective value (result.fun).\n",
        "* If no solution is found, it prints \"No solution found.\""
      ],
      "metadata": {
        "id": "0lAnKkU_8Dvf"
      }
    },
    {
      "cell_type": "code",
      "source": [
        "# Print the optimal solution and objective value\n",
        "if result.success:\n",
        "    print(\"Optimal Solution:\")\n",
        "    print(\"x =\", result.x[0])\n",
        "    print(\"y =\", result.x[1])\n",
        "    print(\"z =\", result.x[2])\n",
        "    print(\"w =\", result.x[3])\n",
        "    print(\"u =\", result.x[4])\n",
        "    print(\"v =\", result.x[5])\n",
        "    print(\"Objective Value:\", result.fun)\n",
        "else:\n",
        "    print(\"No solution found.\")"
      ],
      "metadata": {
        "colab": {
          "base_uri": "https://localhost:8080/"
        },
        "id": "eWulphJO8IpS",
        "outputId": "d557f706-4b45-4bee-814b-79222c85d224"
      },
      "execution_count": 8,
      "outputs": [
        {
          "output_type": "stream",
          "name": "stdout",
          "text": [
            "Optimal Solution:\n",
            "x = 0.0\n",
            "y = 1.0\n",
            "z = 0.0\n",
            "w = 0.0\n",
            "u = 0.0\n",
            "v = 4.0\n",
            "Objective Value: -9.0\n"
          ]
        }
      ]
    },
    {
      "cell_type": "markdown",
      "source": [
        "#Visualize the Optimal Solution:\n",
        "\n",
        "* labels: A list of labels for the variables in the optimal solution.\n",
        "* values: An array of values representing the optimal solution.\n",
        "* Uses matplotlib.pyplot to create a bar chart with the labels and values, and displays it."
      ],
      "metadata": {
        "id": "84TBvYvK8L-g"
      }
    },
    {
      "cell_type": "code",
      "execution_count": 9,
      "metadata": {
        "colab": {
          "base_uri": "https://localhost:8080/",
          "height": 472
        },
        "id": "GLFqZt2k61JU",
        "outputId": "e64c2db0-b722-443f-e462-f693768178f4"
      },
      "outputs": [
        {
          "output_type": "display_data",
          "data": {
            "text/plain": [
              "<Figure size 640x480 with 1 Axes>"
            ],
            "image/png": "[encoded data removed]"
          },
          "metadata": {}
        }
      ],
      "source": [
        "# Visualize the optimal solution\n",
        "labels = ['x', 'y', 'z', 'w', 'u', 'v']\n",
        "values = result.x\n",
        "\n",
        "plt.bar(labels, values)\n",
        "plt.xlabel('Variables')\n",
        "plt.ylabel('Optimal Solution')\n",
        "plt.title('Optimal Solution of Linear Programming Problem')\n",
        "plt.show()\n"
      ]
    }
  ]
}