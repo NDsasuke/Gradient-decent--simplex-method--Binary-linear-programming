{
  "nbformat": 4,
  "nbformat_minor": 0,
  "metadata": {
    "colab": {
      "provenance": [],
      "toc_visible": true,
      "authorship_tag": "ABX9TyOcSTXUcYC1pJhipQaPBHKX",
      "include_colab_link": true
    },
    "kernelspec": {
      "name": "python3",
      "display_name": "Python 3"
    },
    "language_info": {
      "name": "python"
    }
  },
  "cells": [
    {
      "cell_type": "markdown",
      "metadata": {
        "id": "view-in-github",
        "colab_type": "text"
      },
      "source": [
        "<a href=\"https://colab.research.google.com/github/NDsasuke/Gradient-decent--simplex-method--Binary-linear-programming/blob/main/Simplex%20Method/Linear_Programming_Introduction.ipynb\" target=\"_parent\"><img src=\"https://colab.research.google.com/assets/colab-badge.svg\" alt=\"Open In Colab\"/></a>"
      ]
    },
    {
      "cell_type": "markdown",
      "source": [
        "\n",
        "#Introduction to the Simplex Method:\n",
        "\n",
        "The Simplex Method is a widely used algorithm for solving linear programming problems. It was developed by George Dantzig in the 1940s and remains one of the most efficient methods for optimizing linear objective functions subjected to linear constraints.\n",
        "\n",
        "Linear programming problems involve maximizing or minimizing a linear objective function while adhering to a set of linear constraints. The Simplex Method iteratively explores the feasible region defined by these constraints to find the optimal solution.\n",
        "\n",
        "The Simplex Method starts with an initial feasible solution and systematically moves from one feasible solution to another, improving the objective function value at each step. It achieves this by traversing along the edges of the feasible region defined by the constraints.\n",
        "\n",
        "The algorithm works by examining corner points (also known as basic feasible solutions) of the feasible region. At each iteration, it selects a non-basic variable to enter the solution and a basic variable to exit the solution, thereby improving the objective function value. This process continues until an optimal solution is reached, where no further improvement is possible.\n",
        "\n",
        "The key concept in the Simplex Method is the notion of optimality. At each iteration, the algorithm determines the most favorable direction to move in order to improve the objective function value. This is achieved by evaluating the reduced costs and shadow prices associated with the variables.\n",
        "\n",
        "Reduced costs indicate the amount by which the objective function value would improve if a non-basic variable enters the solution. Shadow prices, also known as dual prices, represent the marginal value of the constraints and provide insights into the sensitivity of the solution with respect to changes in the constraints.\n",
        "\n",
        "By considering these optimality indicators, the Simplex Method efficiently navigates through the feasible region, iteratively improving the objective function value until an optimal solution is found.\n",
        "\n",
        "It is important to note that while the Simplex Method is highly effective, there are cases where it may encounter difficulties, such as degeneracy or unboundedness. However, various modifications and enhancements have been developed over the years to address these issues and improve the overall performance of the algorithm.\n",
        "\n",
        "Overall, the Simplex Method provides a powerful and efficient approach to solve linear programming problems and has been instrumental in a wide range of applications, including resource allocation, production planning, scheduling, and network optimization, among others."
      ],
      "metadata": {
        "id": "TRyg1qVDnghe"
      }
    },
    {
      "cell_type": "markdown",
      "source": [
        "# CODE"
      ],
      "metadata": {
        "id": "e9I_FoHRoOvb"
      }
    },
    {
      "cell_type": "markdown",
      "source": [
        "This segment imports the necessary libraries for the code. numpy is imported as np for numerical operations, and linprog from scipy.optimize is imported to solve the linear programming problem using the Simplex Method"
      ],
      "metadata": {
        "id": "e_T8B9MWoVr6"
      }
    },
    {
      "cell_type": "code",
      "execution_count": 2,
      "metadata": {
        "id": "tiz6mh8nnL6B"
      },
      "outputs": [],
      "source": [
        "# Import the required libraries\n",
        "import numpy as np\n",
        "from scipy.optimize import linprog"
      ]
    },
    {
      "cell_type": "markdown",
      "source": [
        "This segment defines the optimization problem. The coefficients c represent the coefficients of the objective function that needs to be minimized. The matrix A represents the coefficients of the inequality constraints on the left-hand side, and the vector b represents the right-hand side of the inequality constraints."
      ],
      "metadata": {
        "id": "ADUqLqtMomAz"
      }
    },
    {
      "cell_type": "code",
      "source": [
        "# Define the optimization problem\n",
        "c = [-3, -2]  # Coefficients of the objective function to minimize\n",
        "\n",
        "A = [[1, -1],  # Coefficients of the inequality constraints (left-hand side)\n",
        "     [3, 1],\n",
        "     [4, 3]]\n",
        "\n",
        "b = [-1, 3, 6]  # Right-hand side of the inequality constraints\n"
      ],
      "metadata": {
        "id": "daT1y-ncohEL"
      },
      "execution_count": 3,
      "outputs": []
    },
    {
      "cell_type": "markdown",
      "source": [
        "This segment solves the linear programming problem using the linprog function from scipy.optimize. The c represents the coefficients of the objective function, A_ub represents the coefficients of the inequality constraints on the left-hand side, b_ub represents the right-hand side of the inequality constraints, and method='simplex' specifies that the Simplex Method should be used for solving."
      ],
      "metadata": {
        "id": "FInPxrp_osZn"
      }
    },
    {
      "cell_type": "code",
      "source": [
        "# Solve the linear programming problem using the Simplex Method\n",
        "result = linprog(c, A_ub=A, b_ub=b, method='simplex')\n"
      ],
      "metadata": {
        "colab": {
          "base_uri": "https://localhost:8080/"
        },
        "id": "kN3jP7CzodsP",
        "outputId": "48e9c672-c92b-4d96-f829-e4d16649da93"
      },
      "execution_count": 4,
      "outputs": [
        {
          "output_type": "stream",
          "name": "stderr",
          "text": [
            "<ipython-input-4-9e055897bef0>:2: DeprecationWarning: `method='simplex'` is deprecated and will be removed in SciPy 1.11.0. Please use one of the HiGHS solvers (e.g. `method='highs'`) in new code.\n",
            "  result = linprog(c, A_ub=A, b_ub=b, method='simplex')\n"
          ]
        }
      ]
    },
    {
      "cell_type": "markdown",
      "source": [
        "This segment extracts the solution and objective function value from the result object obtained from solving the linear programming problem. The variable x represents the optimal values of the decision variables, and obj_val represents the optimal objective function value."
      ],
      "metadata": {
        "id": "3ftkbPv1ovXZ"
      }
    },
    {
      "cell_type": "code",
      "source": [
        "# Extract the solution and objective function value\n",
        "x = result.x  # Optimal values of the decision variables\n",
        "obj_val = result.fun  # Optimal objective function value"
      ],
      "metadata": {
        "id": "8K207AG1obmO"
      },
      "execution_count": 5,
      "outputs": []
    },
    {
      "cell_type": "markdown",
      "source": [
        "This segment prints the results of the linear programming problem. It displays the optimal solution by printing the values of the decision variables (x1 and x2) and the optimal objective function value."
      ],
      "metadata": {
        "id": "oZShAGXboyUK"
      }
    },
    {
      "cell_type": "code",
      "source": [
        "# Print the results\n",
        "print(\"Optimal Solution:\")\n",
        "print(\"x1 =\", x[0])\n",
        "print(\"x2 =\", x[1])\n",
        "print(\"Objective Function Value:\", obj_val)"
      ],
      "metadata": {
        "colab": {
          "base_uri": "https://localhost:8080/"
        },
        "id": "804996bGoZ7e",
        "outputId": "0c4082fe-fdce-444e-c53e-49c681becc07"
      },
      "execution_count": 6,
      "outputs": [
        {
          "output_type": "stream",
          "name": "stdout",
          "text": [
            "Optimal Solution:\n",
            "x1 = 0.4285714285714286\n",
            "x2 = 1.4285714285714286\n",
            "Objective Function Value: -4.142857142857143\n"
          ]
        }
      ]
    },
    {
      "cell_type": "markdown",
      "source": [
        "This segment prints the formulation of the optimization problem. It displays the objective function and the constraints. The objective function is printed in a formatted manner using the coefficients from the c variable. The constraints are printed by iterating over the A matrix and b vector, building the constraint equation based on the coefficients and the signs of the variables."
      ],
      "metadata": {
        "id": "quhMBytRo16F"
      }
    },
    {
      "cell_type": "code",
      "source": [
        "# Print the formulation of the optimization problem\n",
        "print(\"\\nOptimization Problem Formulation:\")\n",
        "print(\"Minimize:\", c[0], \"x1 +\", c[1], \"x2\")\n",
        "print(\"Subject to:\")\n",
        "for i in range(len(A)):\n",
        "    constraint = \"\"\n",
        "    for j in range(len(A[i])):\n",
        "        if A[i][j] < 0:\n",
        "            constraint += \" - \" + str(abs(A[i][j])) + \"x\" + str(j + 1)\n",
        "        else:\n",
        "            constraint += \" + \" + str(A[i][j]) + \"x\" + str(j + 1)\n",
        "    print(constraint, \"<=\", b[i])"
      ],
      "metadata": {
        "colab": {
          "base_uri": "https://localhost:8080/"
        },
        "id": "8xO9YKcDoZOc",
        "outputId": "4373779c-1444-40f9-e444-0fc00e8af3a9"
      },
      "execution_count": 7,
      "outputs": [
        {
          "output_type": "stream",
          "name": "stdout",
          "text": [
            "\n",
            "Optimization Problem Formulation:\n",
            "Minimize: -3 x1 + -2 x2\n",
            "Subject to:\n",
            " + 1x1 - 1x2 <= -1\n",
            " + 3x1 + 1x2 <= 3\n",
            " + 4x1 + 3x2 <= 6\n"
          ]
        }
      ]
    }
  ]
}