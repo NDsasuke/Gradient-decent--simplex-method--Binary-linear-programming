{
  "nbformat": 4,
  "nbformat_minor": 0,
  "metadata": {
    "colab": {
      "provenance": [],
      "authorship_tag": "ABX9TyOUlNnqKk6Cu/4BFWBDmBp7",
      "include_colab_link": true
    },
    "kernelspec": {
      "name": "python3",
      "display_name": "Python 3"
    },
    "language_info": {
      "name": "python"
    }
  },
  "cells": [
    {
      "cell_type": "markdown",
      "metadata": {
        "id": "view-in-github",
        "colab_type": "text"
      },
      "source": [
        "<a href=\"https://colab.research.google.com/github/NDsasuke/Gradient-decent--simplex-method--Binary-linear-programming/blob/main/Simplex%20Method/Handling_Unbounded_Solutions_with_Simplex_Method.ipynb\" target=\"_parent\"><img src=\"https://colab.research.google.com/assets/colab-badge.svg\" alt=\"Open In Colab\"/></a>"
      ]
    },
    {
      "cell_type": "markdown",
      "source": [
        "#Import libraries:\n",
        "Here we're importing numpy, which provides numerical operations on arrays and matrices that we need for the Simplex method."
      ],
      "metadata": {
        "id": "9CGGR1iI1RdL"
      }
    },
    {
      "cell_type": "code",
      "source": [
        "import numpy as np"
      ],
      "metadata": {
        "id": "xG39iHjN1V6B"
      },
      "execution_count": 3,
      "outputs": []
    },
    {
      "cell_type": "markdown",
      "source": [
        "#Define the Simplex Method function:\n",
        "This function takes three arguments: A is a 2D array representing the coefficients of the inequalities in the problem, b is a 1D array representing the right-hand side values of the inequalities, and c is a 1D array representing the coefficients of the objective function."
      ],
      "metadata": {
        "id": "ugmoMV4K1aWW"
      }
    },
    {
      "cell_type": "markdown",
      "source": [
        "#Add slack variables:\n",
        "The matrix A is expanded to include an identity matrix, creating slack variables that allow us to transform inequalities into equalities. The objective function c is extended with zeros at the end corresponding to the slack variables."
      ],
      "metadata": {
        "id": "EBY-ghNE1ek5"
      }
    },
    {
      "cell_type": "markdown",
      "source": [
        "#Set initial basic and non-basic variables:\n",
        "Initially, the slack variables are considered as the basic variables, and the original variables are considered as non-basic variables.\n",
        "\n"
      ],
      "metadata": {
        "id": "MJijc5tE1kcF"
      }
    },
    {
      "cell_type": "markdown",
      "source": [
        "#Simplex Iteration Loop:\n",
        "The loop will run until a break condition is met, specifically when we find a solution or the solution is unbounded."
      ],
      "metadata": {
        "id": "w4oiFzS71sty"
      }
    },
    {
      "cell_type": "markdown",
      "source": [
        "#Compute the coefficients of the objective function:\n",
        "cb and cn are the coefficients of the basic and non-basic variables in the objective function. xb is the solution vector of the current basic variables. z is the current value of the objective function. zn is the relative cost or reduced cost of the non-basic variables."
      ],
      "metadata": {
        "id": "hz87E_Zk10rW"
      }
    },
    {
      "cell_type": "markdown",
      "source": [
        "#Check for unbounded solution:\n",
        "If all the reduced costs are non-negative, then the optimal solution has been found. However, if we have not found a basic feasible solution yet, it implies that the solution is unbounded.\n",
        "\n"
      ],
      "metadata": {
        "id": "G1ND7d5a1_m8"
      }
    },
    {
      "cell_type": "markdown",
      "source": [
        "#Determine the entering variable:\n",
        "The entering variable is chosen as the non-basic variable with the smallest reduced cost. y is the direction vector of the entering variable."
      ],
      "metadata": {
        "id": "za46aUP32Hrj"
      }
    },
    {
      "cell_type": "markdown",
      "source": [
        "#Check for unbounded solution (second check):\n",
        "If all elements of y are non-positive, then there is no limit to how much the entering variable can increase. Therefore, the solution is unbounded."
      ],
      "metadata": {
        "id": "kgA3rhbb2StL"
      }
    },
    {
      "cell_type": "markdown",
      "source": [
        "#Determine the leaving variable:\n",
        "The leaving variable is chosen as the basic variable that minimizes the ratio xb / y. This is known as the minimum ratio rule."
      ],
      "metadata": {
        "id": "EHFCN9-62W2A"
      }
    },
    {
      "cell_type": "markdown",
      "source": [
        "#Update the sets of basic and nonbasic variables:\n",
        "The leaving variable is swapped with the entering variable, which changes the basis and proceeds to the next iteration."
      ],
      "metadata": {
        "id": "vCksle-42ini"
      }
    },
    {
      "cell_type": "code",
      "execution_count": 4,
      "metadata": {
        "id": "Ph7qR14T0-_3"
      },
      "outputs": [],
      "source": [
        "def simplex_method(A, b, c):\n",
        "    \"\"\"\n",
        "    Arguments:\n",
        "    A: m x n numpy matrix\n",
        "    b: m dimensional numpy vector\n",
        "    c: n dimensional numpy vector\n",
        "    \"\"\"\n",
        "    n, m = A.shape\n",
        "\n",
        "    # Add slack variables\n",
        "    A = np.hstack((A, np.eye(n)))\n",
        "    c = np.concatenate([c, np.zeros(n)])\n",
        "\n",
        "    # Initial basic variables set to the slack variables\n",
        "    basic_vars = list(range(m, m+n))\n",
        "    nonbasic_vars = list(range(m))\n",
        "\n",
        "    while True:\n",
        "        # Compute the coefficients of the objective function\n",
        "        cb = c[basic_vars]\n",
        "        cn = c[nonbasic_vars]\n",
        "        xb = np.linalg.solve(A[:, basic_vars], b)\n",
        "        z = cb @ xb\n",
        "        zn = cn - A[:, nonbasic_vars].T @ cb\n",
        "\n",
        "        # Check for unbounded solution\n",
        "        if np.all(zn >= 0):\n",
        "            print('Solution is unbounded.')\n",
        "            return None\n",
        "\n",
        "        # Determine the entering variable\n",
        "        enter_var = np.argmin(zn)\n",
        "        y = np.linalg.solve(A[:, basic_vars], A[:, nonbasic_vars[enter_var]])\n",
        "\n",
        "        # Check for unbounded solution\n",
        "        if np.all(y <= 0):\n",
        "            print('Solution is unbounded.')\n",
        "            return None\n",
        "\n",
        "        # Determine the leaving variable\n",
        "        min_ratio = np.inf\n",
        "        for i in range(n):\n",
        "            if y[i] > 0:\n",
        "                ratio = xb[i] / y[i]\n",
        "                if ratio < min_ratio:\n",
        "                    min_ratio = ratio\n",
        "                    leave_var = i\n",
        "\n",
        "        # Update the sets of basic and nonbasic variables\n",
        "        basic_vars[leave_var], nonbasic_vars[enter_var] = nonbasic_vars[enter_var], basic_vars[leave_var]\n",
        "\n",
        "    return None\n"
      ]
    },
    {
      "cell_type": "markdown",
      "source": [
        "#Application of the simplex method to a problem with an unbounded feasible region:\n",
        "Here we apply the simplex method to a sample problem. A, b, and c are the problem data. If the solution is unbounded, the function will print 'Solution is unbounded.'."
      ],
      "metadata": {
        "id": "-C2lmlwt2qYG"
      }
    },
    {
      "cell_type": "code",
      "source": [
        "# Problem with unbounded feasible region\n",
        "A = np.array([[1, 1], [-1, -1]])\n",
        "b = np.array([2, -1])\n",
        "c = np.array([-1, -2])\n",
        "\n",
        "simplex_method(A, b, c)\n"
      ],
      "metadata": {
        "colab": {
          "base_uri": "https://localhost:8080/"
        },
        "id": "KPIYBydG1DOm",
        "outputId": "59b7debe-977b-48b3-c17e-85679145b13c"
      },
      "execution_count": 5,
      "outputs": [
        {
          "output_type": "stream",
          "name": "stdout",
          "text": [
            "Solution is unbounded.\n"
          ]
        }
      ]
    }
  ]
}