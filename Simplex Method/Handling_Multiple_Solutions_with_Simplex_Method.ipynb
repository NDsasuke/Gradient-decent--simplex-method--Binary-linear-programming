{
  "nbformat": 4,
  "nbformat_minor": 0,
  "metadata": {
    "colab": {
      "provenance": [],
      "authorship_tag": "ABX9TyNt4aqQEDMdrgpbwYYjKY9u",
      "include_colab_link": true
    },
    "kernelspec": {
      "name": "python3",
      "display_name": "Python 3"
    },
    "language_info": {
      "name": "python"
    }
  },
  "cells": [
    {
      "cell_type": "markdown",
      "metadata": {
        "id": "view-in-github",
        "colab_type": "text"
      },
      "source": [
        "<a href=\"https://colab.research.google.com/github/NDsasuke/Gradient-decent--simplex-method--Binary-linear-programming/blob/main/Simplex%20Method/Handling_Multiple_Solutions_with_Simplex_Method.ipynb\" target=\"_parent\"><img src=\"https://colab.research.google.com/assets/colab-badge.svg\" alt=\"Open In Colab\"/></a>"
      ]
    },
    {
      "cell_type": "markdown",
      "source": [
        "#Import Libraries:\n",
        "We are importing numpy, which is a library in Python used for mathematical and matrix operations."
      ],
      "metadata": {
        "id": "47z5_FU-3_NY"
      }
    },
    {
      "cell_type": "code",
      "source": [
        "import numpy as np"
      ],
      "metadata": {
        "id": "Y-i3CVSP4GBf"
      },
      "execution_count": 3,
      "outputs": []
    },
    {
      "cell_type": "markdown",
      "source": [
        "#Define Simplex Method Function:\n",
        "This function is designed to handle the Simplex method operations. It takes the A matrix (coefficients of the inequalities), b (right-hand side values of the inequalities), and c (coefficients of the objective function)."
      ],
      "metadata": {
        "id": "lg7JgF1e4G-9"
      }
    },
    {
      "cell_type": "markdown",
      "source": [
        "#Add Slack Variables:\n",
        "The matrix A is appended with an identity matrix which creates the slack variables. This converts the inequalities to equalities. The objective function c is extended by adding zeros corresponding to the slack variables."
      ],
      "metadata": {
        "id": "Rmz6wFyK4RjJ"
      }
    },
    {
      "cell_type": "markdown",
      "source": [
        "#Set Initial Basic and Non-Basic Variables:\n",
        "Initially, we consider the slack variables as basic variables and the original variables as non-basic variables."
      ],
      "metadata": {
        "id": "Z17x30J_4aG_"
      }
    },
    {
      "cell_type": "markdown",
      "source": [
        "#Simplex Iteration Loop:\n",
        "The loop will continue to run until we find an optimal solution or if the solution is unbounded."
      ],
      "metadata": {
        "id": "5AnMWUYQ4gXe"
      }
    },
    {
      "cell_type": "markdown",
      "source": [
        "#Compute the Coefficients of the Objective Function:\n",
        "cb and cn are the coefficients of the basic and non-basic variables in the objective function. xb is the solution vector of the current basic variables. z is the current value of the objective function. zn is the reduced cost or relative cost of the non-basic variables."
      ],
      "metadata": {
        "id": "oCucb7vY4pL_"
      }
    },
    {
      "cell_type": "markdown",
      "source": [
        "#Check for Optimal Solution:\n",
        "If all reduced costs are non-negative, then we've found an optimal solution."
      ],
      "metadata": {
        "id": "OryZ6aVL4uvY"
      }
    },
    {
      "cell_type": "markdown",
      "source": [
        "#Store the Solution:\n",
        "We initialize a solution vector of size m+n (where m is the number of constraints and n is the number of variables) with zeros and fill the positions of the basic variables with their respective values in xb. We then add this solution to our list of solutions."
      ],
      "metadata": {
        "id": "2BCzv4YD46uf"
      }
    },
    {
      "cell_type": "markdown",
      "source": [
        "#Check for Multiple Solutions:\n",
        "If all reduced costs are strictly positive, we're done. Otherwise, if there's a non-basic variable with a reduced cost of zero, we have multiple solutions and we choose one such variable as the entering variable."
      ],
      "metadata": {
        "id": "SGHiiqzO4_B-"
      }
    },
    {
      "cell_type": "markdown",
      "source": [
        "#Determine the Entering Variable:\n",
        "If there are negative reduced costs, we're not at an optimal solution yet and we choose the non-basic variable with the smallest reduced cost as the entering variable."
      ],
      "metadata": {
        "id": "D8u_CPfP5Ezd"
      }
    },
    {
      "cell_type": "markdown",
      "source": [
        "#Compute the Direction Vector:\n",
        "y is the direction vector for the entering variable.\n"
      ],
      "metadata": {
        "id": "saHRiKvQ5Kmf"
      }
    },
    {
      "cell_type": "markdown",
      "source": [
        "#Check for Unbounded Solution:\n",
        "If all elements of y are non-positive, then the solution is unbounded because there is no limit to how much we can increase the entering variable."
      ],
      "metadata": {
        "id": "_ifuIfZe5SQB"
      }
    },
    {
      "cell_type": "markdown",
      "source": [
        "#Determine the Leaving Variable:\n",
        "The leaving variable is chosen as the basic variable that minimizes the ratio xb / y, following the minimum ratio rule."
      ],
      "metadata": {
        "id": "cPKrOG_J5c2l"
      }
    },
    {
      "cell_type": "markdown",
      "source": [
        "#Update Basic and Non-Basic Variables:\n",
        "We swap the leaving variable with the entering variable, changing the basis and moving to the next iteration."
      ],
      "metadata": {
        "id": "zb6XZuON5lIM"
      }
    },
    {
      "cell_type": "markdown",
      "source": [
        "#Return the Solutions:\n",
        "The function returns all the solutions found."
      ],
      "metadata": {
        "id": "m5xZMC7G5ouo"
      }
    },
    {
      "cell_type": "code",
      "execution_count": 4,
      "metadata": {
        "id": "dY5J1g2p3SRr"
      },
      "outputs": [],
      "source": [
        "def simplex_method(A, b, c):\n",
        "    \"\"\"\n",
        "    Arguments:\n",
        "    A: m x n numpy matrix\n",
        "    b: m dimensional numpy vector\n",
        "    c: n dimensional numpy vector\n",
        "    \"\"\"\n",
        "    n, m = A.shape\n",
        "\n",
        "    # Add slack variables\n",
        "    A = np.hstack((A, np.eye(n)))\n",
        "    c = np.concatenate([c, np.zeros(n)])\n",
        "\n",
        "    # Initial basic variables set to the slack variables\n",
        "    basic_vars = list(range(m, m+n))\n",
        "    nonbasic_vars = list(range(m))\n",
        "\n",
        "    solutions = []\n",
        "\n",
        "    while True:\n",
        "        # Compute the coefficients of the objective function\n",
        "        cb = c[basic_vars]\n",
        "        cn = c[nonbasic_vars]\n",
        "        xb = np.linalg.solve(A[:, basic_vars], b)\n",
        "        z = cb @ xb\n",
        "        zn = cn - A[:, nonbasic_vars].T @ cb\n",
        "\n",
        "        # If no negative reduced costs, we found an optimal solution\n",
        "        if np.all(zn >= 0):\n",
        "            # Store the current basic solution\n",
        "            solution = np.zeros(m+n)\n",
        "            for i in range(n):\n",
        "                solution[basic_vars[i]] = xb[i]\n",
        "            solutions.append(solution)\n",
        "\n",
        "            # If all nonbasic variables have positive reduced cost, we are done\n",
        "            if np.all(zn > 0):\n",
        "                break\n",
        "\n",
        "            # Else choose an entering variable among those with zero reduced cost\n",
        "            enter_var = np.where(zn == 0)[0][0]\n",
        "        else:\n",
        "            # Choose most negative reduced cost\n",
        "            enter_var = np.argmin(zn)\n",
        "\n",
        "        y = np.linalg.solve(A[:, basic_vars], A[:, nonbasic_vars[enter_var]])\n",
        "\n",
        "        # If no positive y, solution is unbounded\n",
        "        if np.all(y <= 0):\n",
        "            print('Solution is unbounded.')\n",
        "            return None\n",
        "\n",
        "        # Determine leaving variable\n",
        "        ratios = np.divide(xb, y, out=np.full_like(xb, np.inf), where=y>0)\n",
        "        leave_var = np.argmin(ratios)\n",
        "\n",
        "        # Update basic and nonbasic variables\n",
        "        basic_vars[leave_var], nonbasic_vars[enter_var] = nonbasic_vars[enter_var], basic_vars[leave_var]\n",
        "\n",
        "    return solutions\n"
      ]
    },
    {
      "cell_type": "markdown",
      "source": [
        "#Apply the Simplex Method to a Problem with Multiple Solutions:\n",
        "In this example, the Simplex Method is applied to a problem with multiple solutions. The problem data A, b, and c are defined and the function is called. The found solutions are then printed."
      ],
      "metadata": {
        "id": "wFOMhHTS5uhr"
      }
    },
    {
      "cell_type": "code",
      "source": [
        "A = np.array([[1, -1], [1, 1]])\n",
        "b = np.array([1, 2])\n",
        "c = np.array([-1, -1])\n",
        "\n",
        "solutions = simplex_method(A, b, c)\n",
        "\n",
        "for solution in solutions:\n",
        "    print('x =', solution[0], ', y =', solution[1])\n"
      ],
      "metadata": {
        "colab": {
          "base_uri": "https://localhost:8080/"
        },
        "id": "FmMhq7jE3U-T",
        "outputId": "081dea66-c39e-4c95-95c5-90fa4a666d82"
      },
      "execution_count": 5,
      "outputs": [
        {
          "output_type": "stream",
          "name": "stdout",
          "text": [
            "x = 1.5 , y = 0.5\n"
          ]
        }
      ]
    }
  ]
}