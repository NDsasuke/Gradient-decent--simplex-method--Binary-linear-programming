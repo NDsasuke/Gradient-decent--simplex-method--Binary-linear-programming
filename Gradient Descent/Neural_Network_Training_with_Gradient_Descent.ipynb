{
  "nbformat": 4,
  "nbformat_minor": 0,
  "metadata": {
    "colab": {
      "provenance": [],
      "authorship_tag": "ABX9TyPWSUU2C3M8TtVKSDxFdDuv",
      "include_colab_link": true
    },
    "kernelspec": {
      "name": "python3",
      "display_name": "Python 3"
    },
    "language_info": {
      "name": "python"
    }
  },
  "cells": [
    {
      "cell_type": "markdown",
      "metadata": {
        "id": "view-in-github",
        "colab_type": "text"
      },
      "source": [
        "<a href=\"https://colab.research.google.com/github/NDsasuke/Gradient-decent--simplex-method--Binary-linear-programming/blob/main/Gradient%20Descent/Neural_Network_Training_with_Gradient_Descent.ipynb\" target=\"_parent\"><img src=\"https://colab.research.google.com/assets/colab-badge.svg\" alt=\"Open In Colab\"/></a>"
      ]
    },
    {
      "cell_type": "markdown",
      "source": [
        "Importing necessary libraries:\n",
        "\n",
        "* numpy for numerical computations.\n",
        "* sklearn.datasets.load_iris to load the Iris dataset.\n",
        "* sklearn.preprocessing.StandardScaler to standardize the features.\n",
        "* matplotlib.pyplot for data visualization."
      ],
      "metadata": {
        "id": "uHWXPmHiWnb_"
      }
    },
    {
      "cell_type": "code",
      "execution_count": 2,
      "metadata": {
        "id": "4wm1K2SXU9ZX"
      },
      "outputs": [],
      "source": [
        "from sklearn.datasets import load_iris\n",
        "from sklearn.preprocessing import StandardScaler\n",
        "import numpy as np\n",
        "import matplotlib.pyplot as plt"
      ]
    },
    {
      "cell_type": "markdown",
      "source": [
        "Loading the Iris dataset:\n",
        "\n",
        "* The dataset is loaded using load_iris() from sklearn.datasets.\n",
        "* The features are stored in X, and the target (class labels) are stored in y.\n"
      ],
      "metadata": {
        "id": "ZMmDcyUKWyoC"
      }
    },
    {
      "cell_type": "code",
      "source": [
        "# Load the Iris dataset\n",
        "iris = load_iris()\n",
        "X = iris.data[:, :2]  # Selecting only the first two features for simplicity\n",
        "y = (iris.target != 0).astype(int)  # Binary classification: set class 0 as negative class, and classes 1 and 2 as positive class"
      ],
      "metadata": {
        "id": "9thpVhzwVvFq"
      },
      "execution_count": 3,
      "outputs": []
    },
    {
      "cell_type": "markdown",
      "source": [
        "Selecting and standardizing the features:\n",
        "\n",
        "* The first two features are selected from X for simplicity.\n",
        "* The StandardScaler is initialized to scale the features.\n",
        "* The features in X are transformed using fit_transform() to have zero mean and unit variance.\n"
      ],
      "metadata": {
        "id": "0ZnfUCiwW9nH"
      }
    },
    {
      "cell_type": "code",
      "source": [
        "# Standardize the features\n",
        "scaler = StandardScaler()\n",
        "X = scaler.fit_transform(X)"
      ],
      "metadata": {
        "id": "3BeDmujJVyV-"
      },
      "execution_count": 4,
      "outputs": []
    },
    {
      "cell_type": "markdown",
      "source": [
        "Adding a bias term to the feature matrix:\n",
        "\n",
        "* A column of ones is added to the left of X using np.c_[].\n",
        "* The modified feature matrix is stored in X_b."
      ],
      "metadata": {
        "id": "idyRwlVSXLbk"
      }
    },
    {
      "cell_type": "code",
      "source": [
        "# Add bias term to X\n",
        "X_b = np.c_[np.ones((X.shape[0], 1)), X]"
      ],
      "metadata": {
        "id": "1ioFdovzV2NV"
      },
      "execution_count": 5,
      "outputs": []
    },
    {
      "cell_type": "markdown",
      "source": [
        "Setting learning rate and number of iterations:\n",
        "\n",
        "* The learning rate determines the step size for each update during gradient descent.\n",
        "* learning_rate is set to 0.01, but you can adjust it as needed.\n",
        "* n_iterations defines the number of iterations to perform during gradient descent."
      ],
      "metadata": {
        "id": "rO2PidvMXQ1X"
      }
    },
    {
      "cell_type": "code",
      "source": [
        "# Set learning rate and number of iterations\n",
        "learning_rate = 0.01\n",
        "n_iterations = 1000"
      ],
      "metadata": {
        "id": "6jHHiCikV7n6"
      },
      "execution_count": 6,
      "outputs": []
    },
    {
      "cell_type": "markdown",
      "source": [
        "Defining the neural network architecture:\n",
        "\n",
        "* The number of input units is set based on the shape of X_b.\n",
        "* n_hidden represents the number of hidden units.\n",
        "* n_output represents the number of output units."
      ],
      "metadata": {
        "id": "7Kai0hpjXY4Y"
      }
    },
    {
      "cell_type": "code",
      "source": [
        "# Define the neural network architecture\n",
        "n_input = X_b.shape[1]\n",
        "n_hidden = 4\n",
        "n_output = 1"
      ],
      "metadata": {
        "id": "ztjgTKfeV_W8"
      },
      "execution_count": 7,
      "outputs": []
    },
    {
      "cell_type": "markdown",
      "source": [
        "Initializing random weights for the neural network:\n",
        "\n",
        "* The random seed is set to ensure reproducibility.\n",
        "* Random weights are generated using np.random.randn() based on the specified architecture.\n"
      ],
      "metadata": {
        "id": "lMne52VOXfrx"
      }
    },
    {
      "cell_type": "code",
      "source": [
        "# Initialize random weights for the neural network\n",
        "np.random.seed(42)\n",
        "weights_1 = np.random.randn(n_input, n_hidden)\n",
        "weights_2 = np.random.randn(n_hidden, n_output)"
      ],
      "metadata": {
        "id": "ISW27C4_WDLb"
      },
      "execution_count": 8,
      "outputs": []
    },
    {
      "cell_type": "markdown",
      "source": [
        "Sigmoid activation function:\n",
        "\n",
        "* The sigmoid function is defined to compute the sigmoid activation.\n",
        "* It returns the value between 0 and 1, representing the probability of the positive class."
      ],
      "metadata": {
        "id": "8t1pTdujXoOD"
      }
    },
    {
      "cell_type": "code",
      "source": [
        "# Sigmoid activation function\n",
        "def sigmoid(z):\n",
        "    return 1 / (1 + np.exp(-z))"
      ],
      "metadata": {
        "id": "Q2nN1tjqWFki"
      },
      "execution_count": 9,
      "outputs": []
    },
    {
      "cell_type": "markdown",
      "source": [
        "Performing gradient descent:\n",
        "\n",
        "* A loop is used to iterate over the specified number of iterations.\n",
        "* Forward propagation is performed to compute the hidden layer output and the final output.\n",
        "* Backpropagation is performed to compute the gradients and update the weights."
      ],
      "metadata": {
        "id": "3m6LXziBX43Q"
      }
    },
    {
      "cell_type": "code",
      "source": [
        "# Perform gradient descent\n",
        "for iteration in range(n_iterations):\n",
        "    # Forward propagation\n",
        "    hidden_output = sigmoid(X_b.dot(weights_1))\n",
        "    output = sigmoid(hidden_output.dot(weights_2))\n",
        "\n",
        "    # Backpropagation\n",
        "    output_error = output - y.reshape(-1, 1)\n",
        "    hidden_error = output_error.dot(weights_2.T) * (hidden_output * (1 - hidden_output))\n",
        "\n",
        "    # Compute gradients\n",
        "    gradients_2 = hidden_output.T.dot(output_error)\n",
        "    gradients_1 = X_b.T.dot(hidden_error)\n",
        "\n",
        "    # Update weights\n",
        "    weights_2 -= learning_rate * gradients_2\n",
        "    weights_1 -= learning_rate * gradients_1\n"
      ],
      "metadata": {
        "id": "TmUPAj_7WKQr"
      },
      "execution_count": 10,
      "outputs": []
    },
    {
      "cell_type": "markdown",
      "source": [
        "Generating predictions:\n",
        "\n",
        "* Forward propagation is performed again using the learned weights to generate predictions.\n",
        "* A threshold of 0.5 is applied to classify instances as 0 or 1."
      ],
      "metadata": {
        "id": "vWqRFGehX_z_"
      }
    },
    {
      "cell_type": "code",
      "source": [
        "# Generate predictions\n",
        "hidden_output = sigmoid(X_b.dot(weights_1))\n",
        "y_pred = (sigmoid(hidden_output.dot(weights_2)) >= 0.5).astype(int)"
      ],
      "metadata": {
        "id": "uvjhrXq4WM2Y"
      },
      "execution_count": 11,
      "outputs": []
    },
    {
      "cell_type": "markdown",
      "source": [
        "Plotting the original data and the decision boundary:\n",
        "\n",
        "* The original data points are plotted with different colors for each class.\n",
        "* The decision boundary is computed from the learned weights and plotted to separate the classes."
      ],
      "metadata": {
        "id": "c4X8v0WSYNLo"
      }
    },
    {
      "cell_type": "code",
      "source": [
        "# Plot the original data and the decision boundary\n",
        "plt.scatter(X[:, 0], X[:, 1], c=y, cmap='bwr')\n",
        "x1 = np.linspace(-2, 2, 100)\n",
        "x2 = -(weights_1[0][0] + weights_1[1][0] * x1) / weights_1[2][0]\n",
        "plt.plot(x1, x2, color='black')\n",
        "plt.xlabel('Feature 1')\n",
        "plt.ylabel('Feature 2')\n",
        "plt.title('Neural Network Training with Gradient Descent')\n",
        "plt.show()"
      ],
      "metadata": {
        "colab": {
          "base_uri": "https://localhost:8080/",
          "height": 472
        },
        "id": "nadB69r4WOyj",
        "outputId": "3a9acf4e-de3c-4300-8139-be4f61b34c8d"
      },
      "execution_count": 12,
      "outputs": [
        {
          "output_type": "display_data",
          "data": {
            "text/plain": [
              "<Figure size 640x480 with 1 Axes>"
            ],
            "image/png": "[encoded data removed]"
          },
          "metadata": {}
        }
      ]
    }
  ]
}