{
  "nbformat": 4,
  "nbformat_minor": 0,
  "metadata": {
    "colab": {
      "provenance": [],
      "authorship_tag": "ABX9TyMJY2Cgur+qa9q0/syYIqSq",
      "include_colab_link": true
    },
    "kernelspec": {
      "name": "python3",
      "display_name": "Python 3"
    },
    "language_info": {
      "name": "python"
    }
  },
  "cells": [
    {
      "cell_type": "markdown",
      "metadata": {
        "id": "view-in-github",
        "colab_type": "text"
      },
      "source": [
        "<a href=\"https://colab.research.google.com/github/NDsasuke/Gradient-decent--simplex-method--Binary-linear-programming/blob/main/Gradient%20Descent/Logistic_Regression_with_Gradient_Descent.ipynb\" target=\"_parent\"><img src=\"https://colab.research.google.com/assets/colab-badge.svg\" alt=\"Open In Colab\"/></a>"
      ]
    },
    {
      "cell_type": "markdown",
      "source": [
        "Importing necessary libraries:\n",
        "\n",
        "* numpy for numerical computations.\n",
        "* sklearn.datasets.load_breast_cancer to load the Breast Cancer Wisconsin (Diagnostic) dataset.\n",
        "* sklearn.preprocessing.StandardScaler to standardize the features.\n",
        "* matplotlib.pyplot for data visualizatio"
      ],
      "metadata": {
        "id": "unPFX2gFSF9v"
      }
    },
    {
      "cell_type": "code",
      "execution_count": 2,
      "metadata": {
        "id": "FDZvVPz0Reeh"
      },
      "outputs": [],
      "source": [
        "from sklearn.datasets import load_breast_cancer\n",
        "from sklearn.preprocessing import StandardScaler\n",
        "import numpy as np\n",
        "import matplotlib.pyplot as plt"
      ]
    },
    {
      "cell_type": "markdown",
      "source": [
        "Loading the Breast Cancer dataset:\n",
        "\n",
        "* The dataset is loaded using load_breast_cancer() from sklearn.datasets.\n",
        "* The features are stored in X, and the binary labels indicating the diagnosis (malignant or benign) are stored in y."
      ],
      "metadata": {
        "id": "71azM6hOSS06"
      }
    },
    {
      "cell_type": "code",
      "source": [
        "# Load the Breast Cancer dataset\n",
        "data = load_breast_cancer()\n",
        "X = data.data\n",
        "y = data.target"
      ],
      "metadata": {
        "id": "bNLZaJTqSTOC"
      },
      "execution_count": 3,
      "outputs": []
    },
    {
      "cell_type": "markdown",
      "source": [
        "Standardizing the features:\n",
        "\n",
        "* The StandardScaler is initialized to scale the features.\n",
        "* The features in X are transformed using fit_transform() to have zero mean and unit variance.\n"
      ],
      "metadata": {
        "id": "DxzP_4aBSWg7"
      }
    },
    {
      "cell_type": "code",
      "source": [
        "# Standardize the features\n",
        "scaler = StandardScaler()\n",
        "X = scaler.fit_transform(X)"
      ],
      "metadata": {
        "id": "yuMPk4WpSXJ1"
      },
      "execution_count": 4,
      "outputs": []
    },
    {
      "cell_type": "markdown",
      "source": [
        "Adding a bias term to the feature matrix:\n",
        "\n",
        "* A column of ones is added to the left of X using np.c_[].\n",
        "* The modified feature matrix is stored in X_b.\n"
      ],
      "metadata": {
        "id": "Ecfq-tX7ScOy"
      }
    },
    {
      "cell_type": "code",
      "source": [
        "# Add bias term to X\n",
        "X_b = np.c_[np.ones((X.shape[0], 1)), X]"
      ],
      "metadata": {
        "id": "Gcd0oQR-ScuB"
      },
      "execution_count": 5,
      "outputs": []
    },
    {
      "cell_type": "markdown",
      "source": [
        "Setting learning rate and number of iterations:\n",
        "\n",
        "* The learning rate determines the step size for each update during gradient descent.\n",
        "* learning_rate is set to 0.01, but you can adjust it as needed.\n",
        "* n_iterations defines the number of iterations to perform during gradient descent."
      ],
      "metadata": {
        "id": "s_juVMkxSgys"
      }
    },
    {
      "cell_type": "code",
      "source": [
        "# Set learning rate and number of iterations\n",
        "learning_rate = 0.01\n",
        "n_iterations = 1000"
      ],
      "metadata": {
        "id": "cpE7y1SkShOR"
      },
      "execution_count": 6,
      "outputs": []
    },
    {
      "cell_type": "markdown",
      "source": [
        "Initializing random weights:\n",
        "\n",
        "* The random seed is set to ensure reproducibility.\n",
        "* Random weights are generated using np.random.randn() based on the number of features."
      ],
      "metadata": {
        "id": "uMtoRXMKSknc"
      }
    },
    {
      "cell_type": "code",
      "source": [
        "# Initialize random weights\n",
        "np.random.seed(42)\n",
        "theta = np.random.randn(X_b.shape[1], 1)"
      ],
      "metadata": {
        "id": "Hd6ARYUlSlGa"
      },
      "execution_count": 7,
      "outputs": []
    },
    {
      "cell_type": "markdown",
      "source": [
        "Sigmoid function:\n",
        "\n",
        "* The sigmoid function is defined to compute the sigmoid activation.\n",
        "* It returns the value between 0 and 1, which represents the probability of the positive class."
      ],
      "metadata": {
        "id": "aEOtzmw2SoYj"
      }
    },
    {
      "cell_type": "code",
      "source": [
        "# Sigmoid function\n",
        "def sigmoid(z):\n",
        "    return 1 / (1 + np.exp(-z))"
      ],
      "metadata": {
        "id": "N5kWn6HtSowg"
      },
      "execution_count": 8,
      "outputs": []
    },
    {
      "cell_type": "markdown",
      "source": [
        "Performing gradient descent:\n",
        "\n",
        "* A loop is used to iterate over the specified number of iterations.\n",
        "* Logits are calculated using the dot product of X_b and the current weights.\n",
        "* Probabilities are computed by applying the sigmoid function to the logits.\n",
        "* Gradients are calculated using the cross-entropy loss function and the current weights.\n",
        "* The weights are updated using gradient descent by subtracting the product of the learning rate and the gradients."
      ],
      "metadata": {
        "id": "KraGXjQuSrI1"
      }
    },
    {
      "cell_type": "code",
      "source": [
        "# Perform gradient descent\n",
        "for iteration in range(n_iterations):\n",
        "    logits = X_b.dot(theta)\n",
        "    y_proba = sigmoid(logits)\n",
        "    gradients = 1 / X_b.shape[0] * X_b.T.dot(y_proba - y.reshape(-1, 1))\n",
        "    theta = theta - learning_rate * gradients"
      ],
      "metadata": {
        "id": "Q-gaSU81Srl_"
      },
      "execution_count": 9,
      "outputs": []
    },
    {
      "cell_type": "markdown",
      "source": [
        "Generating predictions:\n",
        "\n",
        "* Probabilities are computed using the sigmoid function and the trained model.\n",
        "* A threshold of 0.5 is applied to classify instances as 0 or 1."
      ],
      "metadata": {
        "id": "p_c9ldphSuU-"
      }
    },
    {
      "cell_type": "code",
      "source": [
        "# Print the final model parameters\n",
        "print(\"Intercept:\", theta[0][0])\n",
        "print(\"Coefficients:\", theta[1:].flatten())"
      ],
      "metadata": {
        "colab": {
          "base_uri": "https://localhost:8080/"
        },
        "id": "5MpX7TtrSuwT",
        "outputId": "7b3401c6-dfea-4561-eb41-1d5e5898c8fb"
      },
      "execution_count": 10,
      "outputs": [
        {
          "output_type": "stream",
          "name": "stdout",
          "text": [
            "Intercept: 0.3194030016790812\n",
            "Coefficients: [-0.4480619   0.16283709  1.21952236 -0.49671862 -0.27026827  1.50202303\n",
            "  0.55148675 -0.703113    0.59951794 -0.24407107 -0.36134216  0.34157433\n",
            " -1.76202182 -1.72139456 -0.24451774 -0.74687441  0.42408779 -0.70621332\n",
            " -0.92854916  1.69740565 -0.54406251 -0.55515722 -1.72246759 -0.79925549\n",
            " -0.17693654 -1.32941189  0.05849946 -0.94528782 -0.438671   -0.7333506 ]\n"
          ]
        }
      ]
    },
    {
      "cell_type": "markdown",
      "source": [
        "Printing the final model parameters:\n",
        "\n",
        "* The intercept (bias term) and coefficients are printed from theta."
      ],
      "metadata": {
        "id": "rjxxDpj6SxNv"
      }
    },
    {
      "cell_type": "code",
      "source": [
        "# Generate predictions\n",
        "y_pred = (sigmoid(X_b.dot(theta)) >= 0.5).astype(int)"
      ],
      "metadata": {
        "id": "_fjz2YaMSxoZ"
      },
      "execution_count": 11,
      "outputs": []
    },
    {
      "cell_type": "markdown",
      "source": [
        "Plotting the original data and the decision boundary:\n",
        "\n",
        "* The original data points are plotted with different colors for each class.\n",
        "* The decision boundary is computed from the learned parameters and plotted to separate the classes."
      ],
      "metadata": {
        "id": "VUU6i7iJSzEU"
      }
    },
    {
      "cell_type": "code",
      "source": [
        "# Plot the original data and the decision boundary\n",
        "plt.scatter(X[:, 0], X[:, 1], c=y, cmap='bwr')\n",
        "x1 = np.linspace(-3, 5, 100)\n",
        "x2 = -(theta[0][0] + theta[1][0] * x1) / theta[2][0]\n",
        "plt.plot(x1, x2, color='black')\n",
        "plt.xlabel('Feature 1')\n",
        "plt.ylabel('Feature 2')\n",
        "plt.title('Logistic Regression with Gradient Descent')\n",
        "plt.show()\n"
      ],
      "metadata": {
        "colab": {
          "base_uri": "https://localhost:8080/",
          "height": 472
        },
        "id": "LPwtKDFOS0wo",
        "outputId": "327384aa-ed28-43bd-a4b8-a93fa3587dd1"
      },
      "execution_count": 12,
      "outputs": [
        {
          "output_type": "display_data",
          "data": {
            "text/plain": [
              "<Figure size 640x480 with 1 Axes>"
            ],
            "image/png": "[encoded data removed]"
          },
          "metadata": {}
        }
      ]
    }
  ]
}